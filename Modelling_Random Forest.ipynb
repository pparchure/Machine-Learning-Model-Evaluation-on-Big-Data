{
 "cells": [
  {
   "cell_type": "code",
   "execution_count": 1,
   "metadata": {
    "collapsed": true
   },
   "outputs": [],
   "source": [
    "import pyspark\n",
    "sc = pyspark.SparkContext()"
   ]
  },
  {
   "cell_type": "code",
   "execution_count": 2,
   "metadata": {
    "collapsed": true
   },
   "outputs": [],
   "source": [
    "from pyspark.sql import SQLContext\n",
    "sql = SQLContext(sc)"
   ]
  },
  {
   "cell_type": "code",
   "execution_count": 3,
   "metadata": {
    "collapsed": true
   },
   "outputs": [],
   "source": [
    "from pyspark.mllib.tree import DecisionTree, DecisionTreeModel"
   ]
  },
  {
   "cell_type": "code",
   "execution_count": 4,
   "metadata": {
    "collapsed": true
   },
   "outputs": [],
   "source": [
    "df0 = (sql.read\n",
    "         .format(\"com.databricks.spark.csv\")\n",
    "         .option(\"header\", \"true\")\n",
    "         .load(\"part-00000-b8558166-0954-4f48-baf1-8a4320ffa312-c000.csv\"))"
   ]
  },
  {
   "cell_type": "code",
   "execution_count": 5,
   "metadata": {
    "collapsed": true
   },
   "outputs": [],
   "source": [
    "df1 = (sql.read\n",
    "         .format(\"com.databricks.spark.csv\")\n",
    "         .option(\"header\", \"true\")\n",
    "         .load(\"part-00001-b8558166-0954-4f48-baf1-8a4320ffa312-c000.csv\"))"
   ]
  },
  {
   "cell_type": "code",
   "execution_count": 6,
   "metadata": {
    "collapsed": true
   },
   "outputs": [],
   "source": [
    "df2 = (sql.read\n",
    "         .format(\"com.databricks.spark.csv\")\n",
    "         .option(\"header\", \"true\")\n",
    "         .load(\"part-00002-b8558166-0954-4f48-baf1-8a4320ffa312-c000.csv\"))"
   ]
  },
  {
   "cell_type": "code",
   "execution_count": 7,
   "metadata": {
    "collapsed": true
   },
   "outputs": [],
   "source": [
    "df3 = (sql.read\n",
    "         .format(\"com.databricks.spark.csv\")\n",
    "         .option(\"header\", \"true\")\n",
    "         .load(\"part-00003-b8558166-0954-4f48-baf1-8a4320ffa312-c000.csv\"))"
   ]
  },
  {
   "cell_type": "code",
   "execution_count": 8,
   "metadata": {
    "collapsed": true
   },
   "outputs": [],
   "source": [
    "df4 = (sql.read\n",
    "         .format(\"com.databricks.spark.csv\")\n",
    "         .option(\"header\", \"true\")\n",
    "         .load(\"part-00004-b8558166-0954-4f48-baf1-8a4320ffa312-c000.csv\"))"
   ]
  },
  {
   "cell_type": "code",
   "execution_count": 9,
   "metadata": {
    "collapsed": true
   },
   "outputs": [],
   "source": [
    "df5 = (sql.read\n",
    "         .format(\"com.databricks.spark.csv\")\n",
    "         .option(\"header\", \"true\")\n",
    "         .load(\"part-00005-b8558166-0954-4f48-baf1-8a4320ffa312-c000.csv\"))"
   ]
  },
  {
   "cell_type": "code",
   "execution_count": 10,
   "metadata": {
    "collapsed": true
   },
   "outputs": [],
   "source": [
    "df6 = (sql.read\n",
    "         .format(\"com.databricks.spark.csv\")\n",
    "         .option(\"header\", \"true\")\n",
    "         .load(\"part-00006-b8558166-0954-4f48-baf1-8a4320ffa312-c000.csv\"))"
   ]
  },
  {
   "cell_type": "code",
   "execution_count": 11,
   "metadata": {
    "collapsed": true
   },
   "outputs": [],
   "source": [
    "df7 = (sql.read\n",
    "         .format(\"com.databricks.spark.csv\")\n",
    "         .option(\"header\", \"true\")\n",
    "         .load(\"part-00007-b8558166-0954-4f48-baf1-8a4320ffa312-c000.csv\"))"
   ]
  },
  {
   "cell_type": "code",
   "execution_count": 12,
   "metadata": {
    "collapsed": true
   },
   "outputs": [],
   "source": [
    "#Joining two dataframes row wise\n",
    "df0 = df0.union(df1)"
   ]
  },
  {
   "cell_type": "code",
   "execution_count": 15,
   "metadata": {
    "collapsed": true
   },
   "outputs": [],
   "source": [
    "df0 = df0.union(df2)"
   ]
  },
  {
   "cell_type": "code",
   "execution_count": 17,
   "metadata": {
    "collapsed": true
   },
   "outputs": [],
   "source": [
    "df0 = df0.union(df3)"
   ]
  },
  {
   "cell_type": "code",
   "execution_count": 20,
   "metadata": {
    "collapsed": true
   },
   "outputs": [],
   "source": [
    "df0 = df0.union(df4)"
   ]
  },
  {
   "cell_type": "code",
   "execution_count": 23,
   "metadata": {
    "collapsed": true
   },
   "outputs": [],
   "source": [
    "df0 = df0.union(df5)"
   ]
  },
  {
   "cell_type": "code",
   "execution_count": 26,
   "metadata": {
    "collapsed": true
   },
   "outputs": [],
   "source": [
    "df0 = df0.union(df6)"
   ]
  },
  {
   "cell_type": "code",
   "execution_count": 29,
   "metadata": {
    "collapsed": true
   },
   "outputs": [],
   "source": [
    "df0 = df0.union(df7)"
   ]
  },
  {
   "cell_type": "code",
   "execution_count": 31,
   "metadata": {},
   "outputs": [
    {
     "name": "stdout",
     "output_type": "stream",
     "text": [
      "root\n",
      " |-- CASE_STATUS: string (nullable = true)\n",
      " |-- FULL_TIME_POSITION: string (nullable = true)\n",
      " |-- PREVAILING_WAGE: string (nullable = true)\n",
      " |-- YEAR: string (nullable = true)\n",
      " |-- STATE: string (nullable = true)\n",
      " |-- CITY: string (nullable = true)\n",
      " |-- SOC_NAME_CONVERTED: string (nullable = true)\n",
      "\n"
     ]
    }
   ],
   "source": [
    "df0.printSchema()"
   ]
  },
  {
   "cell_type": "code",
   "execution_count": 32,
   "metadata": {
    "collapsed": true
   },
   "outputs": [],
   "source": [
    "df0 = df0.withColumn(\"PREVAILING_WAGE\", df0[\"PREVAILING_WAGE\"].cast(\"double\"))"
   ]
  },
  {
   "cell_type": "code",
   "execution_count": 33,
   "metadata": {},
   "outputs": [
    {
     "name": "stdout",
     "output_type": "stream",
     "text": [
      "root\n",
      " |-- CASE_STATUS: string (nullable = true)\n",
      " |-- FULL_TIME_POSITION: string (nullable = true)\n",
      " |-- PREVAILING_WAGE: double (nullable = true)\n",
      " |-- YEAR: string (nullable = true)\n",
      " |-- STATE: string (nullable = true)\n",
      " |-- CITY: string (nullable = true)\n",
      " |-- SOC_NAME_CONVERTED: string (nullable = true)\n",
      "\n"
     ]
    }
   ],
   "source": [
    "df0.printSchema()"
   ]
  },
  {
   "cell_type": "code",
   "execution_count": 37,
   "metadata": {
    "collapsed": true
   },
   "outputs": [],
   "source": [
    "gdf0 = df0.groupby('STATE').count()\n",
    "gdf1 = df0.groupby('CASE_STATUS').count()\n",
    "gdf2 = df0.groupby('FULL_TIME_POSITION').count()\n",
    "gdf3 = df0.groupby('YEAR').count()\n",
    "gdf4 = df0.groupby('SOC_NAME_CONVERTED').count()"
   ]
  },
  {
   "cell_type": "code",
   "execution_count": 38,
   "metadata": {},
   "outputs": [
    {
     "name": "stdout",
     "output_type": "stream",
     "text": [
      "+--------------------+------+\n",
      "|               STATE| count|\n",
      "+--------------------+------+\n",
      "|          NEW JERSEY|207631|\n",
      "|           WISCONSIN| 31772|\n",
      "|        PENNSYLVANIA|107258|\n",
      "|            ILLINOIS|156234|\n",
      "|DISTRICT OF COLUMBIA| 22008|\n",
      "|            MARYLAND| 54451|\n",
      "|       WEST VIRGINIA|  2947|\n",
      "|            MISSOURI| 33716|\n",
      "|               IDAHO|  4038|\n",
      "|             MONTANA|   951|\n",
      "|                  NA|  3444|\n",
      "|            MICHIGAN| 80525|\n",
      "|             FLORIDA|102694|\n",
      "|              OREGON| 22998|\n",
      "|        SOUTH DAKOTA|  1827|\n",
      "|           LOUISIANA| 11059|\n",
      "|              ALASKA|  1363|\n",
      "|         PUERTO RICO|  1419|\n",
      "|               MAINE|  3812|\n",
      "|       NEW HAMPSHIRE|  9603|\n",
      "|            OKLAHOMA| 10237|\n",
      "|            VIRGINIA| 87514|\n",
      "|          WASHINGTON|100126|\n",
      "|      NORTH CAROLINA| 77536|\n",
      "|             WYOMING|   860|\n",
      "|               TEXAS|285407|\n",
      "|            NEBRASKA|  9009|\n",
      "|           MINNESOTA| 47417|\n",
      "|              HAWAII|  3644|\n",
      "|        RHODE ISLAND| 11455|\n",
      "|           TENNESSEE| 26879|\n",
      "|         MISSISSIPPI|  4099|\n",
      "|            COLORADO| 30971|\n",
      "|              NEVADA|  7152|\n",
      "|             VERMONT|  1877|\n",
      "|          NEW MEXICO|  5330|\n",
      "|            NEW YORK|282252|\n",
      "|                UTAH| 12656|\n",
      "|          CALIFORNIA|542657|\n",
      "|                IOWA| 16233|\n",
      "|              KANSAS| 13311|\n",
      "|             ARIZONA| 40797|\n",
      "|            KENTUCKY| 12296|\n",
      "|                OHIO| 74488|\n",
      "|       MASSACHUSETTS|113028|\n",
      "|      SOUTH CAROLINA| 12512|\n",
      "|             ALABAMA|  9910|\n",
      "|            DELAWARE| 17708|\n",
      "|         CONNECTICUT| 48918|\n",
      "|        NORTH DAKOTA|  2817|\n",
      "|            ARKANSAS| 14342|\n",
      "|             INDIANA| 29320|\n",
      "|             GEORGIA|100027|\n",
      "+--------------------+------+\n",
      "\n"
     ]
    }
   ],
   "source": [
    "gdf0.show(53)"
   ]
  },
  {
   "cell_type": "code",
   "execution_count": 39,
   "metadata": {
    "collapsed": true
   },
   "outputs": [],
   "source": [
    "gdf0.write \\\n",
    "    .format('csv') \\\n",
    "    .option(\"header\",\"true\")\\\n",
    "    .save('Num_Applns_By_State.csv')"
   ]
  },
  {
   "cell_type": "code",
   "execution_count": 40,
   "metadata": {
    "collapsed": true
   },
   "outputs": [],
   "source": [
    "from pyspark.sql.functions import col, avg\n",
    "df_AvgWage_State = df0.groupby('STATE').agg(avg(col(\"PREVAILING_WAGE\")))"
   ]
  },
  {
   "cell_type": "code",
   "execution_count": 41,
   "metadata": {},
   "outputs": [
    {
     "name": "stdout",
     "output_type": "stream",
     "text": [
      "+--------------------+--------------------+\n",
      "|               STATE|avg(PREVAILING_WAGE)|\n",
      "+--------------------+--------------------+\n",
      "|          NEW JERSEY|  140182.30561756206|\n",
      "|           WISCONSIN|  107230.65463773134|\n",
      "|        PENNSYLVANIA|   136099.7945494042|\n",
      "|            ILLINOIS|   181559.1439334588|\n",
      "|DISTRICT OF COLUMBIA|  151285.93113931295|\n",
      "|            MARYLAND|   145933.4359473655|\n",
      "|       WEST VIRGINIA|  197593.90529351874|\n",
      "|            MISSOURI|   130859.2109885514|\n",
      "|               IDAHO|   157935.9954878653|\n",
      "|             MONTANA|   64427.37279705572|\n",
      "|                  NA|  239961.76235191638|\n",
      "|            MICHIGAN|  135705.08508127904|\n",
      "|             FLORIDA|  138437.59474448368|\n",
      "|              OREGON|   138701.0493969041|\n",
      "|        SOUTH DAKOTA|  250261.11043240284|\n",
      "|           LOUISIANA|  138617.72813274257|\n",
      "|              ALASKA|  250427.46387380778|\n",
      "|         PUERTO RICO|   49391.92097251586|\n",
      "|               MAINE|  177254.31569254986|\n",
      "|       NEW HAMPSHIRE|      97674.39044257|\n",
      "|            OKLAHOMA|  105864.02874279572|\n",
      "|            VIRGINIA|    141743.497309002|\n",
      "|          WASHINGTON|  152340.95602670635|\n",
      "|      NORTH CAROLINA|  132839.18118035496|\n",
      "|             WYOMING|   174405.9670232558|\n",
      "|               TEXAS|  129327.55777692913|\n",
      "|            NEBRASKA|  129836.90382728382|\n",
      "|           MINNESOTA|   132251.4906364805|\n",
      "|              HAWAII|  102652.09158068057|\n",
      "|        RHODE ISLAND|  109688.21514797033|\n",
      "|           TENNESSEE|   131240.3506309759|\n",
      "|         MISSISSIPPI|  124594.36930714808|\n",
      "|            COLORADO|  158045.05993219465|\n",
      "|              NEVADA|  191296.93978187916|\n",
      "|             VERMONT|   66469.14984017049|\n",
      "|          NEW MEXICO|  177598.74376172604|\n",
      "|            NEW YORK|  144873.59818164184|\n",
      "|                UTAH|   165745.0956984829|\n",
      "|          CALIFORNIA|  155318.89459310326|\n",
      "|                IOWA|   83577.85314544445|\n",
      "|              KANSAS|  150766.85409285553|\n",
      "|             ARIZONA|  172499.82977522854|\n",
      "|            KENTUCKY|   122114.1955196812|\n",
      "|                OHIO|  129737.62175988079|\n",
      "|       MASSACHUSETTS|  139655.24571822913|\n",
      "|      SOUTH CAROLINA|  144747.24547634274|\n",
      "|             ALABAMA|   175624.6780978809|\n",
      "|            DELAWARE|    161279.091619607|\n",
      "|         CONNECTICUT|  127274.70619710538|\n",
      "|        NORTH DAKOTA|    98375.5888888889|\n",
      "|            ARKANSAS|  118516.79953772138|\n",
      "|             INDIANA|   93315.45541405182|\n",
      "|             GEORGIA|  120371.26171653651|\n",
      "+--------------------+--------------------+\n",
      "\n"
     ]
    }
   ],
   "source": [
    "df_AvgWage_State.show(53)"
   ]
  },
  {
   "cell_type": "code",
   "execution_count": 42,
   "metadata": {},
   "outputs": [
    {
     "name": "stdout",
     "output_type": "stream",
     "text": [
      "+-------------------+-------+\n",
      "|        CASE_STATUS|  count|\n",
      "+-------------------+-------+\n",
      "|          CERTIFIED|2615597|\n",
      "|CERTIFIED-WITHDRAWN| 202655|\n",
      "|             DENIED|  94283|\n",
      "+-------------------+-------+\n",
      "\n"
     ]
    }
   ],
   "source": [
    "gdf1.show()"
   ]
  },
  {
   "cell_type": "code",
   "execution_count": 43,
   "metadata": {},
   "outputs": [
    {
     "name": "stdout",
     "output_type": "stream",
     "text": [
      "+------------------+-------+\n",
      "|FULL_TIME_POSITION|  count|\n",
      "+------------------+-------+\n",
      "|                 Y|2500996|\n",
      "|                 N| 411539|\n",
      "+------------------+-------+\n",
      "\n"
     ]
    }
   ],
   "source": [
    "gdf2.show()"
   ]
  },
  {
   "cell_type": "code",
   "execution_count": 44,
   "metadata": {},
   "outputs": [
    {
     "name": "stdout",
     "output_type": "stream",
     "text": [
      "+----+------+\n",
      "|YEAR| count|\n",
      "+----+------+\n",
      "|2016|625910|\n",
      "|2012|404846|\n",
      "|2014|503372|\n",
      "|2013|430495|\n",
      "|2011|348654|\n",
      "|2015|599258|\n",
      "+----+------+\n",
      "\n"
     ]
    }
   ],
   "source": [
    "gdf3.show()"
   ]
  },
  {
   "cell_type": "code",
   "execution_count": 45,
   "metadata": {},
   "outputs": [
    {
     "name": "stdout",
     "output_type": "stream",
     "text": [
      "+------------------+-------+\n",
      "|SOC_NAME_CONVERTED|  count|\n",
      "+------------------+-------+\n",
      "|                 0|1620028|\n",
      "|                 1|1292507|\n",
      "+------------------+-------+\n",
      "\n"
     ]
    }
   ],
   "source": [
    "gdf4.show()"
   ]
  },
  {
   "cell_type": "code",
   "execution_count": 46,
   "metadata": {
    "collapsed": true
   },
   "outputs": [],
   "source": [
    "newdf1 = df0.filter(df0[\"CASE_STATUS\"]!='DENIED')"
   ]
  },
  {
   "cell_type": "code",
   "execution_count": 47,
   "metadata": {},
   "outputs": [
    {
     "data": {
      "text/plain": [
       "2"
      ]
     },
     "execution_count": 47,
     "metadata": {},
     "output_type": "execute_result"
    }
   ],
   "source": [
    "newdf1.select('CASE_STATUS').distinct().count()"
   ]
  },
  {
   "cell_type": "code",
   "execution_count": 48,
   "metadata": {
    "collapsed": true
   },
   "outputs": [],
   "source": [
    "newdf2 = df0.filter(df0[\"CASE_STATUS\"]=='DENIED')"
   ]
  },
  {
   "cell_type": "code",
   "execution_count": 49,
   "metadata": {},
   "outputs": [
    {
     "data": {
      "text/plain": [
       "1"
      ]
     },
     "execution_count": 49,
     "metadata": {},
     "output_type": "execute_result"
    }
   ],
   "source": [
    "newdf2.select('CASE_STATUS').distinct().count()"
   ]
  },
  {
   "cell_type": "code",
   "execution_count": 50,
   "metadata": {
    "collapsed": true
   },
   "outputs": [],
   "source": [
    "from pyspark.sql.functions import lit\n",
    "\n",
    "newdf1 = newdf1.withColumn('TARGET', lit(0))\n",
    "newdf2 = newdf2.withColumn('TARGET', lit(1))"
   ]
  },
  {
   "cell_type": "code",
   "execution_count": 51,
   "metadata": {
    "collapsed": true
   },
   "outputs": [],
   "source": [
    "newdf1 = newdf1.union(newdf2)"
   ]
  },
  {
   "cell_type": "code",
   "execution_count": 53,
   "metadata": {},
   "outputs": [
    {
     "name": "stdout",
     "output_type": "stream",
     "text": [
      "root\n",
      " |-- CASE_STATUS: string (nullable = true)\n",
      " |-- FULL_TIME_POSITION: string (nullable = true)\n",
      " |-- PREVAILING_WAGE: double (nullable = true)\n",
      " |-- YEAR: string (nullable = true)\n",
      " |-- STATE: string (nullable = true)\n",
      " |-- CITY: string (nullable = true)\n",
      " |-- SOC_NAME_CONVERTED: string (nullable = true)\n",
      " |-- TARGET: integer (nullable = false)\n",
      "\n"
     ]
    }
   ],
   "source": [
    "newdf1.printSchema()"
   ]
  },
  {
   "cell_type": "code",
   "execution_count": 54,
   "metadata": {
    "collapsed": true
   },
   "outputs": [],
   "source": [
    "#Dropping column from dataframe\n",
    "newdf1 = newdf1.drop(\"CASE_STATUS\")"
   ]
  },
  {
   "cell_type": "code",
   "execution_count": 55,
   "metadata": {
    "collapsed": true
   },
   "outputs": [],
   "source": [
    "newdf1 = newdf1.withColumn(\"TARGET\", newdf1[\"TARGET\"].cast(\"string\"))"
   ]
  },
  {
   "cell_type": "code",
   "execution_count": 56,
   "metadata": {},
   "outputs": [
    {
     "name": "stdout",
     "output_type": "stream",
     "text": [
      "root\n",
      " |-- FULL_TIME_POSITION: string (nullable = true)\n",
      " |-- PREVAILING_WAGE: double (nullable = true)\n",
      " |-- YEAR: string (nullable = true)\n",
      " |-- STATE: string (nullable = true)\n",
      " |-- CITY: string (nullable = true)\n",
      " |-- SOC_NAME_CONVERTED: string (nullable = true)\n",
      " |-- TARGET: string (nullable = false)\n",
      "\n"
     ]
    }
   ],
   "source": [
    "newdf1.printSchema()"
   ]
  },
  {
   "cell_type": "code",
   "execution_count": 57,
   "metadata": {
    "collapsed": true
   },
   "outputs": [],
   "source": [
    "newdf1 = newdf1.drop(\"CITY\")"
   ]
  },
  {
   "cell_type": "code",
   "execution_count": 58,
   "metadata": {},
   "outputs": [
    {
     "name": "stdout",
     "output_type": "stream",
     "text": [
      "+------------------+---------------+----+--------------------+------------------+------+\n",
      "|FULL_TIME_POSITION|PREVAILING_WAGE|YEAR|               STATE|SOC_NAME_CONVERTED|TARGET|\n",
      "+------------------+---------------+----+--------------------+------------------+------+\n",
      "|                 Y|       132475.0|2016|            NEW YORK|                 1|     0|\n",
      "|                 Y|       114483.0|2016|            NEW YORK|                 1|     0|\n",
      "|                 Y|       111654.0|2016|               TEXAS|                 1|     0|\n",
      "|                 Y|        90000.0|2016|          CALIFORNIA|                 1|     0|\n",
      "|                 Y|       106900.0|2016|            VIRGINIA|                 1|     0|\n",
      "|                 Y|       115600.0|2016|          CALIFORNIA|                 1|     0|\n",
      "|                 Y|       127358.0|2016|            NEW YORK|                 1|     0|\n",
      "|                 Y|       186098.0|2016|            NEW YORK|                 1|     0|\n",
      "|                 Y|        87526.0|2016|      NORTH CAROLINA|                 1|     0|\n",
      "|                 Y|       186098.0|2016|          NEW JERSEY|                 1|     0|\n",
      "|                 Y|        76794.0|2016|        PENNSYLVANIA|                 1|     0|\n",
      "|                 Y|        97805.0|2016|          NEW JERSEY|                 1|     0|\n",
      "|                 Y|       112258.0|2016|          CALIFORNIA|                 1|     0|\n",
      "|                 Y|       119621.0|2016|          CALIFORNIA|                 1|     0|\n",
      "|                 Y|        93995.0|2016|            ILLINOIS|                 1|     0|\n",
      "|                 Y|       115232.0|2016|            ILLINOIS|                 1|     0|\n",
      "|                 Y|       121202.0|2016|DISTRICT OF COLUMBIA|                 1|     0|\n",
      "|                 Y|       112424.0|2016|          CALIFORNIA|                 1|     0|\n",
      "|                 Y|       147369.0|2016|          CALIFORNIA|                 1|     0|\n",
      "|                 Y|       101296.0|2016|          NEW JERSEY|                 1|     0|\n",
      "+------------------+---------------+----+--------------------+------------------+------+\n",
      "only showing top 20 rows\n",
      "\n"
     ]
    }
   ],
   "source": [
    "newdf1.show()"
   ]
  },
  {
   "cell_type": "code",
   "execution_count": 59,
   "metadata": {
    "collapsed": true
   },
   "outputs": [],
   "source": [
    "cols = newdf1.columns"
   ]
  },
  {
   "cell_type": "code",
   "execution_count": 60,
   "metadata": {},
   "outputs": [
    {
     "data": {
      "text/plain": [
       "['FULL_TIME_POSITION',\n",
       " 'PREVAILING_WAGE',\n",
       " 'YEAR',\n",
       " 'STATE',\n",
       " 'SOC_NAME_CONVERTED',\n",
       " 'TARGET']"
      ]
     },
     "execution_count": 60,
     "metadata": {},
     "output_type": "execute_result"
    }
   ],
   "source": [
    "cols"
   ]
  },
  {
   "cell_type": "code",
   "execution_count": 61,
   "metadata": {
    "collapsed": true
   },
   "outputs": [],
   "source": [
    "from pyspark.ml import Pipeline\n",
    "from pyspark.ml.feature import OneHotEncoder, StringIndexer, VectorAssembler"
   ]
  },
  {
   "cell_type": "code",
   "execution_count": 62,
   "metadata": {
    "collapsed": true
   },
   "outputs": [],
   "source": [
    "categoricalColumns = [\"FULL_TIME_POSITION\", \"YEAR\", \"STATE\", \"SOC_NAME_CONVERTED\"]"
   ]
  },
  {
   "cell_type": "code",
   "execution_count": 63,
   "metadata": {
    "collapsed": true
   },
   "outputs": [],
   "source": [
    "stages = []"
   ]
  },
  {
   "cell_type": "code",
   "execution_count": 64,
   "metadata": {
    "collapsed": true
   },
   "outputs": [],
   "source": [
    "for categoricalCol in categoricalColumns:\n",
    "    stringIndexer = StringIndexer(inputCol=categoricalCol, outputCol=categoricalCol+\"Index\")\n",
    "    encoder = OneHotEncoder(inputCol=stringIndexer.getOutputCol(), outputCol=categoricalCol+\"classVec\")\n",
    "    stages += [stringIndexer, encoder]\n",
    "label_stringIdx = StringIndexer(inputCol = \"TARGET\", outputCol = \"label\")\n",
    "stages += [label_stringIdx]\n",
    "\n",
    "numericCols = [\"PREVAILING_WAGE\"]\n",
    "newcatcol = []"
   ]
  },
  {
   "cell_type": "code",
   "execution_count": 65,
   "metadata": {},
   "outputs": [
    {
     "data": {
      "text/plain": [
       "DataFrame[label: double, features: vector, FULL_TIME_POSITION: string, PREVAILING_WAGE: double, YEAR: string, STATE: string, SOC_NAME_CONVERTED: string, TARGET: string]"
      ]
     },
     "metadata": {},
     "output_type": "display_data"
    }
   ],
   "source": [
    "for categoricalCol in categoricalColumns:\n",
    "     newcatcol.append(categoricalCol + \"classVec\")\n",
    "assemblerInputs = newcatcol + numericCols\n",
    "assembler = VectorAssembler(inputCols=assemblerInputs, outputCol=\"features\")\n",
    "stages += [assembler]\n",
    "\n",
    "pipeline = Pipeline(stages=stages)\n",
    "pipelineModel = pipeline.fit(newdf1)\n",
    "df = pipelineModel.transform(newdf1)\n",
    "\n",
    "selectedcols = [\"label\", \"features\"]+cols\n",
    "df = df.select(selectedcols)\n",
    "display(df)"
   ]
  },
  {
   "cell_type": "code",
   "execution_count": 66,
   "metadata": {},
   "outputs": [
    {
     "name": "stdout",
     "output_type": "stream",
     "text": [
      "+-----+--------------------+------------------+---------------+----+--------------------+------------------+------+\n",
      "|label|            features|FULL_TIME_POSITION|PREVAILING_WAGE|YEAR|               STATE|SOC_NAME_CONVERTED|TARGET|\n",
      "+-----+--------------------+------------------+---------------+----+--------------------+------------------+------+\n",
      "|  0.0|(60,[0,1,8,59],[1...|                 Y|       132475.0|2016|            NEW YORK|                 1|     0|\n",
      "|  0.0|(60,[0,1,8,59],[1...|                 Y|       114483.0|2016|            NEW YORK|                 1|     0|\n",
      "|  0.0|(60,[0,1,7,59],[1...|                 Y|       111654.0|2016|               TEXAS|                 1|     0|\n",
      "|  0.0|(60,[0,1,6,59],[1...|                 Y|        90000.0|2016|          CALIFORNIA|                 1|     0|\n",
      "|  0.0|(60,[0,1,16,59],[...|                 Y|       106900.0|2016|            VIRGINIA|                 1|     0|\n",
      "|  0.0|(60,[0,1,6,59],[1...|                 Y|       115600.0|2016|          CALIFORNIA|                 1|     0|\n",
      "|  0.0|(60,[0,1,8,59],[1...|                 Y|       127358.0|2016|            NEW YORK|                 1|     0|\n",
      "|  0.0|(60,[0,1,8,59],[1...|                 Y|       186098.0|2016|            NEW YORK|                 1|     0|\n",
      "|  0.0|(60,[0,1,18,59],[...|                 Y|        87526.0|2016|      NORTH CAROLINA|                 1|     0|\n",
      "|  0.0|(60,[0,1,9,59],[1...|                 Y|       186098.0|2016|          NEW JERSEY|                 1|     0|\n",
      "|  0.0|(60,[0,1,12,59],[...|                 Y|        76794.0|2016|        PENNSYLVANIA|                 1|     0|\n",
      "|  0.0|(60,[0,1,9,59],[1...|                 Y|        97805.0|2016|          NEW JERSEY|                 1|     0|\n",
      "|  0.0|(60,[0,1,6,59],[1...|                 Y|       112258.0|2016|          CALIFORNIA|                 1|     0|\n",
      "|  0.0|(60,[0,1,6,59],[1...|                 Y|       119621.0|2016|          CALIFORNIA|                 1|     0|\n",
      "|  0.0|(60,[0,1,10,59],[...|                 Y|        93995.0|2016|            ILLINOIS|                 1|     0|\n",
      "|  0.0|(60,[0,1,10,59],[...|                 Y|       115232.0|2016|            ILLINOIS|                 1|     0|\n",
      "|  0.0|(60,[0,1,30,59],[...|                 Y|       121202.0|2016|DISTRICT OF COLUMBIA|                 1|     0|\n",
      "|  0.0|(60,[0,1,6,59],[1...|                 Y|       112424.0|2016|          CALIFORNIA|                 1|     0|\n",
      "|  0.0|(60,[0,1,6,59],[1...|                 Y|       147369.0|2016|          CALIFORNIA|                 1|     0|\n",
      "|  0.0|(60,[0,1,9,59],[1...|                 Y|       101296.0|2016|          NEW JERSEY|                 1|     0|\n",
      "+-----+--------------------+------------------+---------------+----+--------------------+------------------+------+\n",
      "only showing top 20 rows\n",
      "\n"
     ]
    }
   ],
   "source": [
    "df.show()"
   ]
  },
  {
   "cell_type": "code",
   "execution_count": 67,
   "metadata": {},
   "outputs": [
    {
     "name": "stdout",
     "output_type": "stream",
     "text": [
      "1165439\n"
     ]
    }
   ],
   "source": [
    "(subset40PctData, restData) = df.randomSplit([0.4, 0.6], seed = 100)\n",
    "print(subset40PctData.count())"
   ]
  },
  {
   "cell_type": "code",
   "execution_count": 68,
   "metadata": {},
   "outputs": [
    {
     "name": "stdout",
     "output_type": "stream",
     "text": [
      "1747096\n"
     ]
    }
   ],
   "source": [
    "print(restData.count())"
   ]
  },
  {
   "cell_type": "code",
   "execution_count": 69,
   "metadata": {},
   "outputs": [
    {
     "name": "stdout",
     "output_type": "stream",
     "text": [
      "816201\n"
     ]
    }
   ],
   "source": [
    "(trainingData, testData) = subset40PctData.randomSplit([0.7, 0.3], seed = 100)\n",
    "print(trainingData.count())"
   ]
  },
  {
   "cell_type": "code",
   "execution_count": 70,
   "metadata": {},
   "outputs": [
    {
     "name": "stdout",
     "output_type": "stream",
     "text": [
      "349238\n"
     ]
    }
   ],
   "source": [
    "print(testData.count())"
   ]
  },
  {
   "cell_type": "code",
   "execution_count": 71,
   "metadata": {
    "collapsed": true
   },
   "outputs": [],
   "source": [
    "#from pyspark.ml.classification import LogisticRegression\n",
    "from pyspark.ml.classification import RandomForestClassifier"
   ]
  },
  {
   "cell_type": "code",
   "execution_count": 72,
   "metadata": {
    "collapsed": true
   },
   "outputs": [],
   "source": [
    "import time"
   ]
  },
  {
   "cell_type": "code",
   "execution_count": 73,
   "metadata": {},
   "outputs": [
    {
     "name": "stdout",
     "output_type": "stream",
     "text": [
      "---46.36945104598999 seconds----\n"
     ]
    }
   ],
   "source": [
    "start_time = time.time()\n",
    "rf = RandomForestClassifier(labelCol=\"label\", featuresCol=\"features\")\n",
    "rfModel = rf.fit(trainingData)\n",
    "predictions = rfModel.transform(testData)\n",
    "print(\"---%s seconds----\"%(time.time()-start_time))"
   ]
  },
  {
   "cell_type": "code",
   "execution_count": 74,
   "metadata": {},
   "outputs": [
    {
     "name": "stdout",
     "output_type": "stream",
     "text": [
      "root\n",
      " |-- label: double (nullable = true)\n",
      " |-- features: vector (nullable = true)\n",
      " |-- FULL_TIME_POSITION: string (nullable = true)\n",
      " |-- PREVAILING_WAGE: double (nullable = true)\n",
      " |-- YEAR: string (nullable = true)\n",
      " |-- STATE: string (nullable = true)\n",
      " |-- SOC_NAME_CONVERTED: string (nullable = true)\n",
      " |-- TARGET: string (nullable = false)\n",
      " |-- rawPrediction: vector (nullable = true)\n",
      " |-- probability: vector (nullable = true)\n",
      " |-- prediction: double (nullable = true)\n",
      "\n"
     ]
    }
   ],
   "source": [
    "predictions.printSchema()"
   ]
  },
  {
   "cell_type": "code",
   "execution_count": 75,
   "metadata": {
    "collapsed": true
   },
   "outputs": [],
   "source": [
    "selected = predictions.select(\"label\", \"prediction\", \"probability\", \"STATE\", \"TARGET\", \"YEAR\")"
   ]
  },
  {
   "cell_type": "code",
   "execution_count": 76,
   "metadata": {},
   "outputs": [
    {
     "data": {
      "text/plain": [
       "DataFrame[label: double, prediction: double, probability: vector, STATE: string, TARGET: string, YEAR: string]"
      ]
     },
     "metadata": {},
     "output_type": "display_data"
    }
   ],
   "source": [
    "display(selected)"
   ]
  },
  {
   "cell_type": "code",
   "execution_count": 77,
   "metadata": {},
   "outputs": [
    {
     "data": {
      "text/plain": [
       "349238"
      ]
     },
     "execution_count": 77,
     "metadata": {},
     "output_type": "execute_result"
    }
   ],
   "source": [
    "selected.count()"
   ]
  },
  {
   "cell_type": "code",
   "execution_count": 78,
   "metadata": {},
   "outputs": [
    {
     "name": "stdout",
     "output_type": "stream",
     "text": [
      "+-----+----------+--------------------+----------+------+----+\n",
      "|label|prediction|         probability|     STATE|TARGET|YEAR|\n",
      "+-----+----------+--------------------+----------+------+----+\n",
      "|  0.0|       0.0|[0.97984514765760...|CALIFORNIA|     0|2016|\n",
      "|  0.0|       0.0|[0.97984514765760...|CALIFORNIA|     0|2016|\n",
      "|  0.0|       0.0|[0.97984514765760...|CALIFORNIA|     0|2016|\n",
      "|  0.0|       0.0|[0.97984514765760...|CALIFORNIA|     0|2016|\n",
      "|  0.0|       0.0|[0.97984514765760...|CALIFORNIA|     0|2016|\n",
      "|  0.0|       0.0|[0.97984514765760...|CALIFORNIA|     0|2016|\n",
      "|  0.0|       0.0|[0.97984514765760...|CALIFORNIA|     0|2016|\n",
      "|  0.0|       0.0|[0.97984514765760...|CALIFORNIA|     0|2016|\n",
      "|  0.0|       0.0|[0.97984514765760...|CALIFORNIA|     0|2016|\n",
      "|  0.0|       0.0|[0.97984514765760...|CALIFORNIA|     0|2016|\n",
      "|  0.0|       0.0|[0.97984514765760...|CALIFORNIA|     0|2016|\n",
      "|  0.0|       0.0|[0.97984514765760...|CALIFORNIA|     0|2016|\n",
      "|  0.0|       0.0|[0.97984514765760...|CALIFORNIA|     0|2016|\n",
      "|  0.0|       0.0|[0.97984514765760...|CALIFORNIA|     0|2016|\n",
      "|  0.0|       0.0|[0.97984514765760...|CALIFORNIA|     0|2016|\n",
      "|  0.0|       0.0|[0.97984514765760...|CALIFORNIA|     0|2016|\n",
      "|  0.0|       0.0|[0.97984514765760...|CALIFORNIA|     0|2016|\n",
      "|  0.0|       0.0|[0.97984514765760...|CALIFORNIA|     0|2016|\n",
      "|  0.0|       0.0|[0.97984514765760...|CALIFORNIA|     0|2016|\n",
      "|  0.0|       0.0|[0.97984514765760...|CALIFORNIA|     0|2016|\n",
      "+-----+----------+--------------------+----------+------+----+\n",
      "only showing top 20 rows\n",
      "\n"
     ]
    }
   ],
   "source": [
    "selected.show()"
   ]
  },
  {
   "cell_type": "code",
   "execution_count": 79,
   "metadata": {},
   "outputs": [
    {
     "data": {
      "text/plain": [
       "0.719287476866666"
      ]
     },
     "execution_count": 79,
     "metadata": {},
     "output_type": "execute_result"
    }
   ],
   "source": [
    "from pyspark.ml.evaluation import BinaryClassificationEvaluator\n",
    "\n",
    "# Evaluate model\n",
    "evaluator = BinaryClassificationEvaluator(rawPredictionCol=\"rawPrediction\")\n",
    "evaluator.evaluate(predictions)"
   ]
  },
  {
   "cell_type": "code",
   "execution_count": 80,
   "metadata": {},
   "outputs": [
    {
     "data": {
      "text/plain": [
       "'areaUnderROC'"
      ]
     },
     "execution_count": 80,
     "metadata": {},
     "output_type": "execute_result"
    }
   ],
   "source": [
    "evaluator.getMetricName()"
   ]
  },
  {
   "cell_type": "code",
   "execution_count": 81,
   "metadata": {
    "collapsed": true
   },
   "outputs": [],
   "source": [
    "from sklearn import metrics\n",
    "import pandas as pd\n",
    "import matplotlib.pyplot as plt"
   ]
  },
  {
   "cell_type": "code",
   "execution_count": 82,
   "metadata": {
    "collapsed": true
   },
   "outputs": [],
   "source": [
    "results = predictions.select(['probability', 'label'])"
   ]
  },
  {
   "cell_type": "code",
   "execution_count": 83,
   "metadata": {
    "collapsed": true
   },
   "outputs": [],
   "source": [
    "results_collect = results.collect()"
   ]
  },
  {
   "cell_type": "code",
   "execution_count": 84,
   "metadata": {
    "collapsed": true
   },
   "outputs": [],
   "source": [
    "results_list = [(float(i[0][0]), 1.0-float(i[1])) for i in results_collect]"
   ]
  },
  {
   "cell_type": "code",
   "execution_count": 85,
   "metadata": {
    "collapsed": true
   },
   "outputs": [],
   "source": [
    "fpr = dict()\n",
    "tpr = dict()\n",
    "roc_auc = dict()"
   ]
  },
  {
   "cell_type": "code",
   "execution_count": 86,
   "metadata": {
    "collapsed": true
   },
   "outputs": [],
   "source": [
    "y_test = [i[1] for i in results_list]\n",
    "y_score = [i[0] for i in results_list]"
   ]
  },
  {
   "cell_type": "code",
   "execution_count": 87,
   "metadata": {
    "collapsed": true
   },
   "outputs": [],
   "source": [
    "fpr, tpr, _ = metrics.roc_curve(y_test, y_score)\n",
    "roc_auc = metrics.auc(fpr, tpr)"
   ]
  },
  {
   "cell_type": "code",
   "execution_count": 88,
   "metadata": {},
   "outputs": [
    {
     "data": {
      "image/png": "[encoded data removed]",
      "text/plain": [
       "<matplotlib.figure.Figure at 0x7f9f7fdd47f0>"
      ]
     },
     "metadata": {},
     "output_type": "display_data"
    }
   ],
   "source": [
    "plt.figure()\n",
    "plt.plot(fpr, tpr, label='ROC curve (area = %0.2f)' % roc_auc)\n",
    "plt.plot([0, 1], [0, 1], 'k--')\n",
    "plt.xlim([0.0, 1.0])\n",
    "plt.ylim([0.0, 1.05])\n",
    "plt.xlabel('False Positive Rate')\n",
    "plt.ylabel('True Positive Rate')\n",
    "plt.title('Receiver operating characteristic example')\n",
    "plt.legend(loc=\"lower right\")\n",
    "plt.show()"
   ]
  }
 ],
 "metadata": {
  "kernelspec": {
   "display_name": "Python 3",
   "language": "python",
   "name": "python3"
  },
  "language_info": {
   "codemirror_mode": {
    "name": "ipython",
    "version": 3
   },
   "file_extension": ".py",
   "mimetype": "text/x-python",
   "name": "python",
   "nbconvert_exporter": "python",
   "pygments_lexer": "ipython3",
   "version": "3.6.3"
  }
 },
 "nbformat": 4,
 "nbformat_minor": 2
}
