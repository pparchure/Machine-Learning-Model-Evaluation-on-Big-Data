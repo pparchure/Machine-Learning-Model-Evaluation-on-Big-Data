{
 "cells": [
  {
   "cell_type": "code",
   "execution_count": 1,
   "metadata": {
    "collapsed": true
   },
   "outputs": [],
   "source": [
    "import pyspark\n",
    "sc = pyspark.SparkContext()"
   ]
  },
  {
   "cell_type": "code",
   "execution_count": 2,
   "metadata": {
    "collapsed": true
   },
   "outputs": [],
   "source": [
    "from pyspark.sql import SQLContext\n",
    "sql = SQLContext(sc)"
   ]
  },
  {
   "cell_type": "code",
   "execution_count": 3,
   "metadata": {
    "collapsed": true
   },
   "outputs": [],
   "source": [
    "from pyspark.mllib.tree import DecisionTree, DecisionTreeModel"
   ]
  },
  {
   "cell_type": "code",
   "execution_count": 3,
   "metadata": {
    "collapsed": true
   },
   "outputs": [],
   "source": [
    "df0 = (sql.read\n",
    "         .format(\"com.databricks.spark.csv\")\n",
    "         .option(\"header\", \"true\")\n",
    "         .load(\"part-00000-b8558166-0954-4f48-baf1-8a4320ffa312-c000.csv\"))"
   ]
  },
  {
   "cell_type": "code",
   "execution_count": 4,
   "metadata": {
    "collapsed": true
   },
   "outputs": [],
   "source": [
    "df1 = (sql.read\n",
    "         .format(\"com.databricks.spark.csv\")\n",
    "         .option(\"header\", \"true\")\n",
    "         .load(\"part-00001-b8558166-0954-4f48-baf1-8a4320ffa312-c000.csv\"))"
   ]
  },
  {
   "cell_type": "code",
   "execution_count": 5,
   "metadata": {
    "collapsed": true
   },
   "outputs": [],
   "source": [
    "df2 = (sql.read\n",
    "         .format(\"com.databricks.spark.csv\")\n",
    "         .option(\"header\", \"true\")\n",
    "         .load(\"part-00002-b8558166-0954-4f48-baf1-8a4320ffa312-c000.csv\"))"
   ]
  },
  {
   "cell_type": "code",
   "execution_count": 6,
   "metadata": {
    "collapsed": true
   },
   "outputs": [],
   "source": [
    "df3 = (sql.read\n",
    "         .format(\"com.databricks.spark.csv\")\n",
    "         .option(\"header\", \"true\")\n",
    "         .load(\"part-00003-b8558166-0954-4f48-baf1-8a4320ffa312-c000.csv\"))"
   ]
  },
  {
   "cell_type": "code",
   "execution_count": 7,
   "metadata": {
    "collapsed": true
   },
   "outputs": [],
   "source": [
    "df4 = (sql.read\n",
    "         .format(\"com.databricks.spark.csv\")\n",
    "         .option(\"header\", \"true\")\n",
    "         .load(\"part-00004-b8558166-0954-4f48-baf1-8a4320ffa312-c000.csv\"))"
   ]
  },
  {
   "cell_type": "code",
   "execution_count": 8,
   "metadata": {
    "collapsed": true
   },
   "outputs": [],
   "source": [
    "df5 = (sql.read\n",
    "         .format(\"com.databricks.spark.csv\")\n",
    "         .option(\"header\", \"true\")\n",
    "         .load(\"part-00005-b8558166-0954-4f48-baf1-8a4320ffa312-c000.csv\"))"
   ]
  },
  {
   "cell_type": "code",
   "execution_count": 9,
   "metadata": {
    "collapsed": true
   },
   "outputs": [],
   "source": [
    "df6 = (sql.read\n",
    "         .format(\"com.databricks.spark.csv\")\n",
    "         .option(\"header\", \"true\")\n",
    "         .load(\"part-00006-b8558166-0954-4f48-baf1-8a4320ffa312-c000.csv\"))"
   ]
  },
  {
   "cell_type": "code",
   "execution_count": 10,
   "metadata": {
    "collapsed": true
   },
   "outputs": [],
   "source": [
    "df7 = (sql.read\n",
    "         .format(\"com.databricks.spark.csv\")\n",
    "         .option(\"header\", \"true\")\n",
    "         .load(\"part-00007-b8558166-0954-4f48-baf1-8a4320ffa312-c000.csv\"))"
   ]
  },
  {
   "cell_type": "code",
   "execution_count": 11,
   "metadata": {
    "collapsed": true
   },
   "outputs": [],
   "source": [
    "#Joining two dataframes row wise\n",
    "df0 = df0.union(df1)"
   ]
  },
  {
   "cell_type": "code",
   "execution_count": 14,
   "metadata": {
    "collapsed": true
   },
   "outputs": [],
   "source": [
    "df0 = df0.union(df2)"
   ]
  },
  {
   "cell_type": "code",
   "execution_count": 16,
   "metadata": {
    "collapsed": true
   },
   "outputs": [],
   "source": [
    "df0 = df0.union(df3)"
   ]
  },
  {
   "cell_type": "code",
   "execution_count": 19,
   "metadata": {
    "collapsed": true
   },
   "outputs": [],
   "source": [
    "df0 = df0.union(df4)"
   ]
  },
  {
   "cell_type": "code",
   "execution_count": 22,
   "metadata": {
    "collapsed": true
   },
   "outputs": [],
   "source": [
    "df0 = df0.union(df5)"
   ]
  },
  {
   "cell_type": "code",
   "execution_count": 25,
   "metadata": {
    "collapsed": true
   },
   "outputs": [],
   "source": [
    "df0 = df0.union(df6)"
   ]
  },
  {
   "cell_type": "code",
   "execution_count": 28,
   "metadata": {
    "collapsed": true
   },
   "outputs": [],
   "source": [
    "df0 = df0.union(df7)"
   ]
  },
  {
   "cell_type": "code",
   "execution_count": 30,
   "metadata": {},
   "outputs": [
    {
     "name": "stdout",
     "output_type": "stream",
     "text": [
      "root\n",
      " |-- CASE_STATUS: string (nullable = true)\n",
      " |-- FULL_TIME_POSITION: string (nullable = true)\n",
      " |-- PREVAILING_WAGE: string (nullable = true)\n",
      " |-- YEAR: string (nullable = true)\n",
      " |-- STATE: string (nullable = true)\n",
      " |-- CITY: string (nullable = true)\n",
      " |-- SOC_NAME_CONVERTED: string (nullable = true)\n",
      "\n"
     ]
    }
   ],
   "source": [
    "df0.printSchema()"
   ]
  },
  {
   "cell_type": "code",
   "execution_count": 31,
   "metadata": {
    "collapsed": true
   },
   "outputs": [],
   "source": [
    "df0 = df0.withColumn(\"PREVAILING_WAGE\", df0[\"PREVAILING_WAGE\"].cast(\"double\"))"
   ]
  },
  {
   "cell_type": "code",
   "execution_count": 32,
   "metadata": {},
   "outputs": [
    {
     "name": "stdout",
     "output_type": "stream",
     "text": [
      "root\n",
      " |-- CASE_STATUS: string (nullable = true)\n",
      " |-- FULL_TIME_POSITION: string (nullable = true)\n",
      " |-- PREVAILING_WAGE: double (nullable = true)\n",
      " |-- YEAR: string (nullable = true)\n",
      " |-- STATE: string (nullable = true)\n",
      " |-- CITY: string (nullable = true)\n",
      " |-- SOC_NAME_CONVERTED: string (nullable = true)\n",
      "\n"
     ]
    }
   ],
   "source": [
    "df0.printSchema()"
   ]
  },
  {
   "cell_type": "code",
   "execution_count": null,
   "metadata": {
    "collapsed": true
   },
   "outputs": [],
   "source": [
    "gdf0 = df0.groupby('STATE').count()\n",
    "gdf1 = df0.groupby('CASE_STATUS').count()\n",
    "gdf2 = df0.groupby('FULL_TIME_POSITION').count()\n",
    "gdf3 = df0.groupby('YEAR').count()\n",
    "gdf4 = df0.groupby('SOC_NAME_CONVERTED').count()"
   ]
  },
  {
   "cell_type": "code",
   "execution_count": null,
   "metadata": {
    "collapsed": true
   },
   "outputs": [],
   "source": [
    "gdf0.write \\\n",
    "    .format('csv') \\\n",
    "    .option(\"header\",\"true\")\\\n",
    "    .save('Num_Applns_By_State.csv')"
   ]
  },
  {
   "cell_type": "code",
   "execution_count": null,
   "metadata": {
    "collapsed": true
   },
   "outputs": [],
   "source": [
    "from pyspark.sql.functions import col, avg\n",
    "df_AvgWage_State = df0.groupby('STATE').agg(avg(col(\"PREVAILING_WAGE\")))"
   ]
  },
  {
   "cell_type": "code",
   "execution_count": 33,
   "metadata": {
    "collapsed": true
   },
   "outputs": [],
   "source": [
    "newdf1 = df0.filter(df0[\"CASE_STATUS\"]!='DENIED')"
   ]
  },
  {
   "cell_type": "code",
   "execution_count": 35,
   "metadata": {
    "collapsed": true
   },
   "outputs": [],
   "source": [
    "newdf2 = df0.filter(df0[\"CASE_STATUS\"]=='DENIED')"
   ]
  },
  {
   "cell_type": "code",
   "execution_count": 37,
   "metadata": {
    "collapsed": true
   },
   "outputs": [],
   "source": [
    "from pyspark.sql.functions import lit\n",
    "\n",
    "newdf1 = newdf1.withColumn('TARGET', lit(0))\n",
    "newdf2 = newdf2.withColumn('TARGET', lit(1))"
   ]
  },
  {
   "cell_type": "code",
   "execution_count": 38,
   "metadata": {
    "collapsed": true
   },
   "outputs": [],
   "source": [
    "newdf1 = newdf1.union(newdf2)"
   ]
  },
  {
   "cell_type": "code",
   "execution_count": 40,
   "metadata": {},
   "outputs": [
    {
     "name": "stdout",
     "output_type": "stream",
     "text": [
      "root\n",
      " |-- CASE_STATUS: string (nullable = true)\n",
      " |-- FULL_TIME_POSITION: string (nullable = true)\n",
      " |-- PREVAILING_WAGE: double (nullable = true)\n",
      " |-- YEAR: string (nullable = true)\n",
      " |-- STATE: string (nullable = true)\n",
      " |-- CITY: string (nullable = true)\n",
      " |-- SOC_NAME_CONVERTED: string (nullable = true)\n",
      " |-- TARGET: integer (nullable = false)\n",
      "\n"
     ]
    }
   ],
   "source": [
    "newdf1.printSchema()"
   ]
  },
  {
   "cell_type": "code",
   "execution_count": 41,
   "metadata": {
    "collapsed": true
   },
   "outputs": [],
   "source": [
    "#Dropping column from dataframe\n",
    "newdf1 = newdf1.drop(\"CASE_STATUS\")"
   ]
  },
  {
   "cell_type": "code",
   "execution_count": null,
   "metadata": {
    "collapsed": true
   },
   "outputs": [],
   "source": [
    "newdf1 = newdf1.withColumn(\"TARGET\", newdf1[\"TARGET\"].cast(\"string\"))"
   ]
  },
  {
   "cell_type": "code",
   "execution_count": 42,
   "metadata": {
    "collapsed": true
   },
   "outputs": [],
   "source": [
    "newdf1 = newdf1.drop(\"CITY\")"
   ]
  },
  {
   "cell_type": "code",
   "execution_count": 43,
   "metadata": {},
   "outputs": [
    {
     "name": "stdout",
     "output_type": "stream",
     "text": [
      "+------------------+---------------+----+--------------------+------------------+------+\n",
      "|FULL_TIME_POSITION|PREVAILING_WAGE|YEAR|               STATE|SOC_NAME_CONVERTED|TARGET|\n",
      "+------------------+---------------+----+--------------------+------------------+------+\n",
      "|                 Y|       132475.0|2016|            NEW YORK|                 1|     0|\n",
      "|                 Y|       114483.0|2016|            NEW YORK|                 1|     0|\n",
      "|                 Y|       111654.0|2016|               TEXAS|                 1|     0|\n",
      "|                 Y|        90000.0|2016|          CALIFORNIA|                 1|     0|\n",
      "|                 Y|       106900.0|2016|            VIRGINIA|                 1|     0|\n",
      "|                 Y|       115600.0|2016|          CALIFORNIA|                 1|     0|\n",
      "|                 Y|       127358.0|2016|            NEW YORK|                 1|     0|\n",
      "|                 Y|       186098.0|2016|            NEW YORK|                 1|     0|\n",
      "|                 Y|        87526.0|2016|      NORTH CAROLINA|                 1|     0|\n",
      "|                 Y|       186098.0|2016|          NEW JERSEY|                 1|     0|\n",
      "|                 Y|        76794.0|2016|        PENNSYLVANIA|                 1|     0|\n",
      "|                 Y|        97805.0|2016|          NEW JERSEY|                 1|     0|\n",
      "|                 Y|       112258.0|2016|          CALIFORNIA|                 1|     0|\n",
      "|                 Y|       119621.0|2016|          CALIFORNIA|                 1|     0|\n",
      "|                 Y|        93995.0|2016|            ILLINOIS|                 1|     0|\n",
      "|                 Y|       115232.0|2016|            ILLINOIS|                 1|     0|\n",
      "|                 Y|       121202.0|2016|DISTRICT OF COLUMBIA|                 1|     0|\n",
      "|                 Y|       112424.0|2016|          CALIFORNIA|                 1|     0|\n",
      "|                 Y|       147369.0|2016|          CALIFORNIA|                 1|     0|\n",
      "|                 Y|       101296.0|2016|          NEW JERSEY|                 1|     0|\n",
      "+------------------+---------------+----+--------------------+------------------+------+\n",
      "only showing top 20 rows\n",
      "\n"
     ]
    }
   ],
   "source": [
    "newdf1.show()"
   ]
  },
  {
   "cell_type": "code",
   "execution_count": 44,
   "metadata": {
    "collapsed": true
   },
   "outputs": [],
   "source": [
    "cols = newdf1.columns"
   ]
  },
  {
   "cell_type": "code",
   "execution_count": 46,
   "metadata": {
    "collapsed": true
   },
   "outputs": [],
   "source": [
    "from pyspark.ml import Pipeline\n",
    "from pyspark.ml.feature import OneHotEncoder, StringIndexer, VectorAssembler"
   ]
  },
  {
   "cell_type": "code",
   "execution_count": 47,
   "metadata": {
    "collapsed": true
   },
   "outputs": [],
   "source": [
    "categoricalColumns = [\"FULL_TIME_POSITION\", \"YEAR\", \"STATE\", \"SOC_NAME_CONVERTED\"]"
   ]
  },
  {
   "cell_type": "code",
   "execution_count": 51,
   "metadata": {
    "collapsed": true
   },
   "outputs": [],
   "source": [
    "stages = []"
   ]
  },
  {
   "cell_type": "code",
   "execution_count": 53,
   "metadata": {
    "collapsed": true
   },
   "outputs": [],
   "source": [
    "for categoricalCol in categoricalColumns:\n",
    "    stringIndexer = StringIndexer(inputCol=categoricalCol, outputCol=categoricalCol+\"Index\")\n",
    "    encoder = OneHotEncoder(inputCol=stringIndexer.getOutputCol(), outputCol=categoricalCol+\"classVec\")\n",
    "    stages += [stringIndexer, encoder]\n",
    "label_stringIdx = StringIndexer(inputCol = \"TARGET\", outputCol = \"label\")\n",
    "stages += [label_stringIdx]\n",
    "\n",
    "numericCols = [\"PREVAILING_WAGE\"]\n",
    "newcatcol = []"
   ]
  },
  {
   "cell_type": "code",
   "execution_count": 54,
   "metadata": {},
   "outputs": [
    {
     "data": {
      "text/plain": [
       "DataFrame[label: double, features: vector, FULL_TIME_POSITION: string, PREVAILING_WAGE: double, YEAR: string, STATE: string, SOC_NAME_CONVERTED: string, TARGET: int]"
      ]
     },
     "metadata": {},
     "output_type": "display_data"
    }
   ],
   "source": [
    "for categoricalCol in categoricalColumns:\n",
    "     newcatcol.append(categoricalCol + \"classVec\")\n",
    "assemblerInputs = newcatcol + numericCols\n",
    "assembler = VectorAssembler(inputCols=assemblerInputs, outputCol=\"features\")\n",
    "stages += [assembler]\n",
    "\n",
    "pipeline = Pipeline(stages=stages)\n",
    "pipelineModel = pipeline.fit(newdf1)\n",
    "df = pipelineModel.transform(newdf1)\n",
    "\n",
    "selectedcols = [\"label\", \"features\"]+cols\n",
    "df = df.select(selectedcols)\n",
    "display(df)"
   ]
  },
  {
   "cell_type": "code",
   "execution_count": 55,
   "metadata": {},
   "outputs": [
    {
     "name": "stdout",
     "output_type": "stream",
     "text": [
      "+-----+--------------------+------------------+---------------+----+--------------------+------------------+------+\n",
      "|label|            features|FULL_TIME_POSITION|PREVAILING_WAGE|YEAR|               STATE|SOC_NAME_CONVERTED|TARGET|\n",
      "+-----+--------------------+------------------+---------------+----+--------------------+------------------+------+\n",
      "|  0.0|(60,[0,1,8,59],[1...|                 Y|       132475.0|2016|            NEW YORK|                 1|     0|\n",
      "|  0.0|(60,[0,1,8,59],[1...|                 Y|       114483.0|2016|            NEW YORK|                 1|     0|\n",
      "|  0.0|(60,[0,1,7,59],[1...|                 Y|       111654.0|2016|               TEXAS|                 1|     0|\n",
      "|  0.0|(60,[0,1,6,59],[1...|                 Y|        90000.0|2016|          CALIFORNIA|                 1|     0|\n",
      "|  0.0|(60,[0,1,16,59],[...|                 Y|       106900.0|2016|            VIRGINIA|                 1|     0|\n",
      "|  0.0|(60,[0,1,6,59],[1...|                 Y|       115600.0|2016|          CALIFORNIA|                 1|     0|\n",
      "|  0.0|(60,[0,1,8,59],[1...|                 Y|       127358.0|2016|            NEW YORK|                 1|     0|\n",
      "|  0.0|(60,[0,1,8,59],[1...|                 Y|       186098.0|2016|            NEW YORK|                 1|     0|\n",
      "|  0.0|(60,[0,1,18,59],[...|                 Y|        87526.0|2016|      NORTH CAROLINA|                 1|     0|\n",
      "|  0.0|(60,[0,1,9,59],[1...|                 Y|       186098.0|2016|          NEW JERSEY|                 1|     0|\n",
      "|  0.0|(60,[0,1,12,59],[...|                 Y|        76794.0|2016|        PENNSYLVANIA|                 1|     0|\n",
      "|  0.0|(60,[0,1,9,59],[1...|                 Y|        97805.0|2016|          NEW JERSEY|                 1|     0|\n",
      "|  0.0|(60,[0,1,6,59],[1...|                 Y|       112258.0|2016|          CALIFORNIA|                 1|     0|\n",
      "|  0.0|(60,[0,1,6,59],[1...|                 Y|       119621.0|2016|          CALIFORNIA|                 1|     0|\n",
      "|  0.0|(60,[0,1,10,59],[...|                 Y|        93995.0|2016|            ILLINOIS|                 1|     0|\n",
      "|  0.0|(60,[0,1,10,59],[...|                 Y|       115232.0|2016|            ILLINOIS|                 1|     0|\n",
      "|  0.0|(60,[0,1,30,59],[...|                 Y|       121202.0|2016|DISTRICT OF COLUMBIA|                 1|     0|\n",
      "|  0.0|(60,[0,1,6,59],[1...|                 Y|       112424.0|2016|          CALIFORNIA|                 1|     0|\n",
      "|  0.0|(60,[0,1,6,59],[1...|                 Y|       147369.0|2016|          CALIFORNIA|                 1|     0|\n",
      "|  0.0|(60,[0,1,9,59],[1...|                 Y|       101296.0|2016|          NEW JERSEY|                 1|     0|\n",
      "+-----+--------------------+------------------+---------------+----+--------------------+------------------+------+\n",
      "only showing top 20 rows\n",
      "\n"
     ]
    }
   ],
   "source": [
    "df.show()"
   ]
  },
  {
   "cell_type": "code",
   "execution_count": 311,
   "metadata": {},
   "outputs": [
    {
     "name": "stdout",
     "output_type": "stream",
     "text": [
      "1165439\n"
     ]
    }
   ],
   "source": [
    "(subset40PctData, restData) = df.randomSplit([0.4, 0.6], seed = 100)\n",
    "print(subset40PctData.count())"
   ]
  },
  {
   "cell_type": "code",
   "execution_count": 313,
   "metadata": {},
   "outputs": [
    {
     "name": "stdout",
     "output_type": "stream",
     "text": [
      "816201\n"
     ]
    }
   ],
   "source": [
    "(trainingData, testData) = subset40PctData.randomSplit([0.7, 0.3], seed = 100)\n",
    "print(trainingData.count())"
   ]
  },
  {
   "cell_type": "code",
   "execution_count": 314,
   "metadata": {},
   "outputs": [
    {
     "name": "stdout",
     "output_type": "stream",
     "text": [
      "349238\n"
     ]
    }
   ],
   "source": [
    "print(testData.count())"
   ]
  },
  {
   "cell_type": "code",
   "execution_count": 175,
   "metadata": {
    "collapsed": true
   },
   "outputs": [],
   "source": [
    "#from pyspark.ml.classification import LogisticRegression\n",
    "from pyspark.ml.classification import NaiveBayes"
   ]
  },
  {
   "cell_type": "code",
   "execution_count": 315,
   "metadata": {
    "collapsed": true
   },
   "outputs": [],
   "source": [
    "import time"
   ]
  },
  {
   "cell_type": "code",
   "execution_count": 316,
   "metadata": {},
   "outputs": [
    {
     "name": "stdout",
     "output_type": "stream",
     "text": [
      "---12.07000470161438 seconds----\n"
     ]
    }
   ],
   "source": [
    "start_time = time.time()\n",
    "nb = NaiveBayes(smoothing=8.0, modelType=\"multinomial\")\n",
    "nbModel = nb.fit(trainingData)\n",
    "predictions = nbModel.transform(testData)\n",
    "print(\"---%s seconds----\"%(time.time()-start_time))"
   ]
  },
  {
   "cell_type": "code",
   "execution_count": 299,
   "metadata": {},
   "outputs": [
    {
     "name": "stdout",
     "output_type": "stream",
     "text": [
      "root\n",
      " |-- label: double (nullable = true)\n",
      " |-- features: vector (nullable = true)\n",
      " |-- FULL_TIME_POSITION: string (nullable = true)\n",
      " |-- PREVAILING_WAGE: double (nullable = true)\n",
      " |-- YEAR: string (nullable = true)\n",
      " |-- STATE: string (nullable = true)\n",
      " |-- SOC_NAME_CONVERTED: string (nullable = true)\n",
      " |-- TARGET: integer (nullable = false)\n",
      " |-- rawPrediction: vector (nullable = true)\n",
      " |-- probability: vector (nullable = true)\n",
      " |-- prediction: double (nullable = true)\n",
      "\n"
     ]
    }
   ],
   "source": [
    "predictions.printSchema()"
   ]
  },
  {
   "cell_type": "code",
   "execution_count": 300,
   "metadata": {
    "collapsed": true
   },
   "outputs": [],
   "source": [
    "selected = predictions.select(\"label\", \"prediction\", \"probability\", \"STATE\", \"TARGET\", \"YEAR\")"
   ]
  },
  {
   "cell_type": "code",
   "execution_count": 195,
   "metadata": {},
   "outputs": [
    {
     "name": "stdout",
     "output_type": "stream",
     "text": [
      "+-----+----------+--------------------+----------+------+----+\n",
      "|label|prediction|         probability|     STATE|TARGET|YEAR|\n",
      "+-----+----------+--------------------+----------+------+----+\n",
      "|  0.0|       0.0|[0.99998851281023...|CALIFORNIA|     0|2016|\n",
      "|  0.0|       0.0|[0.99998851281023...|CALIFORNIA|     0|2016|\n",
      "|  0.0|       0.0|[0.99998851281023...|CALIFORNIA|     0|2016|\n",
      "|  0.0|       0.0|[0.99998851281023...|CALIFORNIA|     0|2016|\n",
      "|  0.0|       0.0|[0.99998833390564...|CALIFORNIA|     0|2016|\n",
      "|  0.0|       0.0|[0.99998829092466...|CALIFORNIA|     0|2016|\n",
      "|  0.0|       0.0|[0.99998828066777...|CALIFORNIA|     0|2016|\n",
      "|  0.0|       0.0|[0.99998828066777...|CALIFORNIA|     0|2016|\n",
      "|  0.0|       0.0|[0.99998828066777...|CALIFORNIA|     0|2016|\n",
      "|  0.0|       0.0|[0.99998828066777...|CALIFORNIA|     0|2016|\n",
      "|  0.0|       0.0|[0.99998828066777...|CALIFORNIA|     0|2016|\n",
      "|  0.0|       0.0|[0.99998828066777...|CALIFORNIA|     0|2016|\n",
      "|  0.0|       0.0|[0.99998828066777...|CALIFORNIA|     0|2016|\n",
      "|  0.0|       0.0|[0.99998828066777...|CALIFORNIA|     0|2016|\n",
      "|  0.0|       0.0|[0.99998828066777...|CALIFORNIA|     0|2016|\n",
      "|  0.0|       0.0|[0.99998828066777...|CALIFORNIA|     0|2016|\n",
      "|  0.0|       0.0|[0.99998828066777...|CALIFORNIA|     0|2016|\n",
      "|  0.0|       0.0|[0.99998828066777...|CALIFORNIA|     0|2016|\n",
      "|  0.0|       0.0|[0.99998828066777...|CALIFORNIA|     0|2016|\n",
      "|  0.0|       0.0|[0.99998828066777...|CALIFORNIA|     0|2016|\n",
      "+-----+----------+--------------------+----------+------+----+\n",
      "only showing top 20 rows\n",
      "\n"
     ]
    }
   ],
   "source": [
    "selected.show()"
   ]
  },
  {
   "cell_type": "code",
   "execution_count": 303,
   "metadata": {},
   "outputs": [
    {
     "data": {
      "text/plain": [
       "0.5159613178001"
      ]
     },
     "execution_count": 303,
     "metadata": {},
     "output_type": "execute_result"
    }
   ],
   "source": [
    "from pyspark.ml.evaluation import BinaryClassificationEvaluator\n",
    "\n",
    "# Evaluate model\n",
    "evaluator = BinaryClassificationEvaluator(rawPredictionCol=\"rawPrediction\")\n",
    "evaluator.evaluate(predictions)"
   ]
  },
  {
   "cell_type": "code",
   "execution_count": 251,
   "metadata": {
    "collapsed": true
   },
   "outputs": [],
   "source": [
    "from sklearn import metrics\n",
    "import pandas as pd\n",
    "import matplotlib.pyplot as plt"
   ]
  },
  {
   "cell_type": "code",
   "execution_count": 304,
   "metadata": {
    "collapsed": true
   },
   "outputs": [],
   "source": [
    "results = predictions.select(['probability', 'label'])"
   ]
  },
  {
   "cell_type": "code",
   "execution_count": 305,
   "metadata": {
    "collapsed": true
   },
   "outputs": [],
   "source": [
    "results_collect = results.collect()"
   ]
  },
  {
   "cell_type": "code",
   "execution_count": 306,
   "metadata": {
    "collapsed": true
   },
   "outputs": [],
   "source": [
    "results_list = [(float(i[0][0]), 1.0-float(i[1])) for i in results_collect]"
   ]
  },
  {
   "cell_type": "code",
   "execution_count": 307,
   "metadata": {
    "collapsed": true
   },
   "outputs": [],
   "source": [
    "fpr = dict()\n",
    "tpr = dict()\n",
    "roc_auc = dict()"
   ]
  },
  {
   "cell_type": "code",
   "execution_count": 308,
   "metadata": {
    "collapsed": true
   },
   "outputs": [],
   "source": [
    "y_test = [i[1] for i in results_list]\n",
    "y_score = [i[0] for i in results_list]"
   ]
  },
  {
   "cell_type": "code",
   "execution_count": 309,
   "metadata": {
    "collapsed": true
   },
   "outputs": [],
   "source": [
    "fpr, tpr, _ = metrics.roc_curve(y_test, y_score)\n",
    "roc_auc = metrics.auc(fpr, tpr)"
   ]
  },
  {
   "cell_type": "code",
   "execution_count": 310,
   "metadata": {},
   "outputs": [
    {
     "data": {
      "image/png": "[encoded data removed]",
      "text/plain": [
       "<matplotlib.figure.Figure at 0x7fb763465470>"
      ]
     },
     "metadata": {},
     "output_type": "display_data"
    }
   ],
   "source": [
    "plt.figure()\n",
    "plt.plot(fpr, tpr, label='ROC curve (area = %0.2f)' % roc_auc)\n",
    "plt.plot([0, 1], [0, 1], 'k--')\n",
    "plt.xlim([0.0, 1.0])\n",
    "plt.ylim([0.0, 1.05])\n",
    "plt.xlabel('False Positive Rate')\n",
    "plt.ylabel('True Positive Rate')\n",
    "plt.title('Receiver operating characteristic example')\n",
    "plt.legend(loc=\"lower right\")\n",
    "plt.show()"
   ]
  }
 ],
 "metadata": {
  "kernelspec": {
   "display_name": "Python 3",
   "language": "python",
   "name": "python3"
  },
  "language_info": {
   "codemirror_mode": {
    "name": "ipython",
    "version": 3
   },
   "file_extension": ".py",
   "mimetype": "text/x-python",
   "name": "python",
   "nbconvert_exporter": "python",
   "pygments_lexer": "ipython3",
   "version": "3.6.3"
  }
 },
 "nbformat": 4,
 "nbformat_minor": 2
}
