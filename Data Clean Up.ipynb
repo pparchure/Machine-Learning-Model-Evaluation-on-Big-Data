{
 "cells": [
  {
   "cell_type": "code",
   "execution_count": 1,
   "metadata": {
    "collapsed": true
   },
   "outputs": [],
   "source": [
    "import pyspark\n",
    "sc = pyspark.SparkContext()\n"
   ]
  },
  {
   "cell_type": "code",
   "execution_count": 2,
   "metadata": {
    "collapsed": true
   },
   "outputs": [],
   "source": [
    "from pyspark.sql import SQLContext\n",
    "sql = SQLContext(sc)"
   ]
  },
  {
   "cell_type": "code",
   "execution_count": 41,
   "metadata": {
    "collapsed": true
   },
   "outputs": [],
   "source": [
    "df = (sql.read\n",
    "         .format(\"com.databricks.spark.csv\")\n",
    "         .option(\"header\", \"true\")\n",
    "         .load(\"h1b_kaggle.csv\"))"
   ]
  },
  {
   "cell_type": "code",
   "execution_count": 42,
   "metadata": {},
   "outputs": [
    {
     "data": {
      "text/plain": [
       "Row(_c0='1', CASE_STATUS='CERTIFIED-WITHDRAWN', EMPLOYER_NAME='UNIVERSITY OF MICHIGAN', SOC_NAME='BIOCHEMISTS AND BIOPHYSICISTS', JOB_TITLE='POSTDOCTORAL RESEARCH FELLOW', FULL_TIME_POSITION='N', PREVAILING_WAGE='36067', YEAR='2016', WORKSITE='ANN ARBOR, MICHIGAN', lon='-83.7430378', lat='42.2808256')"
      ]
     },
     "execution_count": 42,
     "metadata": {},
     "output_type": "execute_result"
    }
   ],
   "source": [
    "df.head()"
   ]
  },
  {
   "cell_type": "code",
   "execution_count": 43,
   "metadata": {},
   "outputs": [
    {
     "data": {
      "text/plain": [
       "[Row(_c0='1', CASE_STATUS='CERTIFIED-WITHDRAWN', EMPLOYER_NAME='UNIVERSITY OF MICHIGAN', SOC_NAME='BIOCHEMISTS AND BIOPHYSICISTS', JOB_TITLE='POSTDOCTORAL RESEARCH FELLOW', FULL_TIME_POSITION='N', PREVAILING_WAGE='36067', YEAR='2016', WORKSITE='ANN ARBOR, MICHIGAN', lon='-83.7430378', lat='42.2808256'),\n",
       " Row(_c0='2', CASE_STATUS='CERTIFIED-WITHDRAWN', EMPLOYER_NAME='GOODMAN NETWORKS, INC.', SOC_NAME='CHIEF EXECUTIVES', JOB_TITLE='CHIEF OPERATING OFFICER', FULL_TIME_POSITION='Y', PREVAILING_WAGE='242674', YEAR='2016', WORKSITE='PLANO, TEXAS', lon='-96.6988856', lat='33.0198431'),\n",
       " Row(_c0='3', CASE_STATUS='CERTIFIED-WITHDRAWN', EMPLOYER_NAME='PORTS AMERICA GROUP, INC.', SOC_NAME='CHIEF EXECUTIVES', JOB_TITLE='CHIEF PROCESS OFFICER', FULL_TIME_POSITION='Y', PREVAILING_WAGE='193066', YEAR='2016', WORKSITE='JERSEY CITY, NEW JERSEY', lon='-74.0776417', lat='40.7281575'),\n",
       " Row(_c0='4', CASE_STATUS='CERTIFIED-WITHDRAWN', EMPLOYER_NAME='GATES CORPORATION, A WHOLLY-OWNED SUBSIDIARY OF TOMKINS PLC', SOC_NAME='CHIEF EXECUTIVES', JOB_TITLE='REGIONAL PRESIDEN, AMERICAS', FULL_TIME_POSITION='Y', PREVAILING_WAGE='220314', YEAR='2016', WORKSITE='DENVER, COLORADO', lon='-104.990251', lat='39.7392358'),\n",
       " Row(_c0='5', CASE_STATUS='WITHDRAWN', EMPLOYER_NAME='PEABODY INVESTMENTS CORP.', SOC_NAME='CHIEF EXECUTIVES', JOB_TITLE='PRESIDENT MONGOLIA AND INDIA', FULL_TIME_POSITION='Y', PREVAILING_WAGE='157518.4', YEAR='2016', WORKSITE='ST. LOUIS, MISSOURI', lon='-90.1994042', lat='38.6270025')]"
      ]
     },
     "execution_count": 43,
     "metadata": {},
     "output_type": "execute_result"
    }
   ],
   "source": [
    "df.take(5)"
   ]
  },
  {
   "cell_type": "code",
   "execution_count": 4,
   "metadata": {},
   "outputs": [
    {
     "name": "stdout",
     "output_type": "stream",
     "text": [
      "+---+-------------------+--------------------+--------------------+--------------------+------------------+---------------+----+--------------------+-----------+----------+\n",
      "|_c0|        CASE_STATUS|       EMPLOYER_NAME|            SOC_NAME|           JOB_TITLE|FULL_TIME_POSITION|PREVAILING_WAGE|YEAR|            WORKSITE|        lon|       lat|\n",
      "+---+-------------------+--------------------+--------------------+--------------------+------------------+---------------+----+--------------------+-----------+----------+\n",
      "|  1|CERTIFIED-WITHDRAWN|UNIVERSITY OF MIC...|BIOCHEMISTS AND B...|POSTDOCTORAL RESE...|                 N|          36067|2016| ANN ARBOR, MICHIGAN|-83.7430378|42.2808256|\n",
      "|  2|CERTIFIED-WITHDRAWN|GOODMAN NETWORKS,...|    CHIEF EXECUTIVES|CHIEF OPERATING O...|                 Y|         242674|2016|        PLANO, TEXAS|-96.6988856|33.0198431|\n",
      "|  3|CERTIFIED-WITHDRAWN|PORTS AMERICA GRO...|    CHIEF EXECUTIVES|CHIEF PROCESS OFF...|                 Y|         193066|2016|JERSEY CITY, NEW ...|-74.0776417|40.7281575|\n",
      "|  4|CERTIFIED-WITHDRAWN|GATES CORPORATION...|    CHIEF EXECUTIVES|REGIONAL PRESIDEN...|                 Y|         220314|2016|    DENVER, COLORADO|-104.990251|39.7392358|\n",
      "|  5|          WITHDRAWN|PEABODY INVESTMEN...|    CHIEF EXECUTIVES|PRESIDENT MONGOLI...|                 Y|       157518.4|2016| ST. LOUIS, MISSOURI|-90.1994042|38.6270025|\n",
      "+---+-------------------+--------------------+--------------------+--------------------+------------------+---------------+----+--------------------+-----------+----------+\n",
      "only showing top 5 rows\n",
      "\n"
     ]
    }
   ],
   "source": [
    "df.show(5)"
   ]
  },
  {
   "cell_type": "code",
   "execution_count": 44,
   "metadata": {},
   "outputs": [
    {
     "data": {
      "text/plain": [
       "3002458"
      ]
     },
     "execution_count": 44,
     "metadata": {},
     "output_type": "execute_result"
    }
   ],
   "source": [
    "df.count()"
   ]
  },
  {
   "cell_type": "code",
   "execution_count": 45,
   "metadata": {},
   "outputs": [
    {
     "name": "stdout",
     "output_type": "stream",
     "text": [
      "root\n",
      " |-- _c0: string (nullable = true)\n",
      " |-- CASE_STATUS: string (nullable = true)\n",
      " |-- EMPLOYER_NAME: string (nullable = true)\n",
      " |-- SOC_NAME: string (nullable = true)\n",
      " |-- JOB_TITLE: string (nullable = true)\n",
      " |-- FULL_TIME_POSITION: string (nullable = true)\n",
      " |-- PREVAILING_WAGE: string (nullable = true)\n",
      " |-- YEAR: string (nullable = true)\n",
      " |-- WORKSITE: string (nullable = true)\n",
      " |-- lon: string (nullable = true)\n",
      " |-- lat: string (nullable = true)\n",
      "\n"
     ]
    }
   ],
   "source": [
    "#Getting the data types of all columns\n",
    "df.printSchema()"
   ]
  },
  {
   "cell_type": "code",
   "execution_count": 21,
   "metadata": {
    "collapsed": true
   },
   "outputs": [],
   "source": [
    "from pyspark.mllib.tree import DecisionTree, DecisionTreeModel"
   ]
  },
  {
   "cell_type": "code",
   "execution_count": 9,
   "metadata": {
    "collapsed": true
   },
   "outputs": [],
   "source": [
    "#Changing datatypes of some columns\n",
    "df = df.withColumn(\"PREVAILING_WAGE\", df[\"PREVAILING_WAGE\"].cast(\"double\"))"
   ]
  },
  {
   "cell_type": "code",
   "execution_count": 12,
   "metadata": {},
   "outputs": [
    {
     "name": "stdout",
     "output_type": "stream",
     "text": [
      "+---+-----------+-------------+--------+---------+------------------+---------------+----+--------+---+---+\n",
      "|_c0|CASE_STATUS|EMPLOYER_NAME|SOC_NAME|JOB_TITLE|FULL_TIME_POSITION|PREVAILING_WAGE|YEAR|WORKSITE|lon|lat|\n",
      "+---+-----------+-------------+--------+---------+------------------+---------------+----+--------+---+---+\n",
      "|  0|          0|            0|       0|        0|                 0|              0|   0|       0|  0|  7|\n",
      "+---+-----------+-------------+--------+---------+------------------+---------------+----+--------+---+---+\n",
      "\n"
     ]
    }
   ],
   "source": [
    "#Getting a count of nulls in each column\n",
    "from pyspark.sql.functions import isnan, when, count, col\n",
    "df.select([count(when(isnan(c) | col(c).isNull(), c)).alias(c) for c in df.columns]).show()"
   ]
  },
  {
   "cell_type": "code",
   "execution_count": null,
   "metadata": {
    "collapsed": true
   },
   "outputs": [],
   "source": [
    "#Splitting the WORKSITE column using comma to separate state from rest of the address\n",
    "from pyspark.sql.functions import split\n",
    "split_col = split(df['worksite'], ',')\n",
    "df = df.withColumn('CITY', split_col.getItem(0))\n",
    "df = df.withColumn('STATE', split_col.getItem(1))"
   ]
  },
  {
   "cell_type": "code",
   "execution_count": 21,
   "metadata": {},
   "outputs": [
    {
     "data": {
      "text/plain": [
       "DataFrame[_c0: string, CASE_STATUS: string, EMPLOYER_NAME: string, SOC_NAME: string, JOB_TITLE: string, FULL_TIME_POSITION: string, PREVAILING_WAGE: string, YEAR: string, WORKSITE: string, lon: string, lat: string]"
      ]
     },
     "execution_count": 21,
     "metadata": {},
     "output_type": "execute_result"
    }
   ],
   "source": [
    "#Replacing nulls with specific values - DONT THINK THIS WORKED so used sql below\n",
    "#df.na.fill({'case_status': 'Unknown', 'employer_name': 'Unknown', 'soc_name':'Unknown', 'job_title':'Unknown', \\\n",
    "#'full_time_position':'Unknown','prevailing_wage':0,'year':'Unknown','worksite':'Unknown','lon':0,'lat':0})"
   ]
  },
  {
   "cell_type": "code",
   "execution_count": 18,
   "metadata": {
    "collapsed": true
   },
   "outputs": [],
   "source": [
    "#df.filter(df[\"case_status\"] = 'Unknown').count()\n",
    "sql.registerDataFrameAsTable(df, \"h1_b_data\")"
   ]
  },
  {
   "cell_type": "code",
   "execution_count": 21,
   "metadata": {},
   "outputs": [
    {
     "data": {
      "text/plain": [
       "1328062"
      ]
     },
     "execution_count": 21,
     "metadata": {},
     "output_type": "execute_result"
    }
   ],
   "source": [
    "#Using sql to check for null values. Only Lat column has 7 null values.\n",
    "#df2 = sql.sql(\"SELECT _c0, SOC_NAME from h1_b_data\")\n",
    "\n",
    "df2 = sql.sql(\"SELECT * from h1_b_data where SOC_NAME like '%COMPUTER%' OR SOC_NAME like '%Computer%'\")\n",
    "df3 = sql.sql(\"SELECT * from h1_b_data where SOC_NAME not like '%COMPUTER%' AND SOC_NAME not like '%Computer%'\")\n",
    "\n",
    "#df2.show()\n",
    "df2.count()\n"
   ]
  },
  {
   "cell_type": "code",
   "execution_count": 22,
   "metadata": {},
   "outputs": [
    {
     "data": {
      "text/plain": [
       "1674396"
      ]
     },
     "execution_count": 22,
     "metadata": {},
     "output_type": "execute_result"
    }
   ],
   "source": [
    "df3.count()"
   ]
  },
  {
   "cell_type": "code",
   "execution_count": 25,
   "metadata": {
    "collapsed": true
   },
   "outputs": [],
   "source": [
    "from pyspark.sql.functions import lit\n",
    "\n",
    "df2 = df2.withColumn('SOC_NAME_CONVERTED', lit(1))\n",
    "df3 = df3.withColumn('SOC_NAME_CONVERTED', lit(0))"
   ]
  },
  {
   "cell_type": "code",
   "execution_count": 26,
   "metadata": {},
   "outputs": [
    {
     "name": "stdout",
     "output_type": "stream",
     "text": [
      "root\n",
      " |-- _c0: string (nullable = true)\n",
      " |-- CASE_STATUS: string (nullable = true)\n",
      " |-- EMPLOYER_NAME: string (nullable = true)\n",
      " |-- SOC_NAME: string (nullable = true)\n",
      " |-- JOB_TITLE: string (nullable = true)\n",
      " |-- FULL_TIME_POSITION: string (nullable = true)\n",
      " |-- PREVAILING_WAGE: double (nullable = true)\n",
      " |-- YEAR: string (nullable = true)\n",
      " |-- WORKSITE: string (nullable = true)\n",
      " |-- lon: string (nullable = true)\n",
      " |-- lat: string (nullable = true)\n",
      " |-- CITY: string (nullable = true)\n",
      " |-- STATE: string (nullable = true)\n",
      " |-- SOC_NAME_CONVERTED: integer (nullable = false)\n",
      "\n"
     ]
    }
   ],
   "source": [
    "df2.printSchema()"
   ]
  },
  {
   "cell_type": "code",
   "execution_count": 27,
   "metadata": {},
   "outputs": [
    {
     "name": "stdout",
     "output_type": "stream",
     "text": [
      "+----+-------------------+--------------------+--------------------+--------------------+------------------+---------------+----+--------------------+------------+----------+-------------+---------------+------------------+\n",
      "| _c0|        CASE_STATUS|       EMPLOYER_NAME|            SOC_NAME|           JOB_TITLE|FULL_TIME_POSITION|PREVAILING_WAGE|YEAR|            WORKSITE|         lon|       lat|         CITY|          STATE|SOC_NAME_CONVERTED|\n",
      "+----+-------------------+--------------------+--------------------+--------------------+------------------+---------------+----+--------------------+------------+----------+-------------+---------------+------------------+\n",
      "|7337|CERTIFIED-WITHDRAWN|NORTHWEST EVALUAT...|COMPUTER & INFORM...|INFORMATION SERVI...|                 Y|       132475.0|2016|  NEW YORK, NEW YORK| -74.0059413|40.7127837|     NEW YORK|       NEW YORK|                 1|\n",
      "|7338|CERTIFIED-WITHDRAWN|NORTHWEST EVALUAT...|COMPUTER & INFORM...|INFORMATION SERVI...|                 Y|       114483.0|2016|  NEW YORK, NEW YORK| -74.0059413|40.7127837|     NEW YORK|       NEW YORK|                 1|\n",
      "|7339|CERTIFIED-WITHDRAWN|    CCH INCORPORATED|COMPUTER AND INFO...|          MANAGER IT|                 Y|       111654.0|2016|       IRVING, TEXAS| -96.9488945|32.8140177|       IRVING|          TEXAS|                 1|\n",
      "|7340|          WITHDRAWN|      GRANULAR, INC.|COMPUTER AND INFO...|SENIOR PRODUCT MA...|                 Y|       118414.0|2016|SAN FRANCISCO, CA...|-122.4194155|37.7749295|SAN FRANCISCO|     CALIFORNIA|                 1|\n",
      "|7341|          CERTIFIED|PAYMENT LOGISTICS...|COMPUTER AND INFO...|CHIEF TECHNOLOGY ...|                 Y|        90000.0|2016|SAN DIEGO, CALIFO...|-117.1610838| 32.715738|    SAN DIEGO|     CALIFORNIA|                 1|\n",
      "|7342|          WITHDRAWN|          ZYNGA INC.|COMPUTER AND INFO...| DIRECTOR OF PRODUCT|                 Y|       136282.0|2016|CARLSBAD, CALIFORNIA|-117.3505939|33.1580933|     CARLSBAD|     CALIFORNIA|                 1|\n",
      "|7343|CERTIFIED-WITHDRAWN|FEDERAL HOME LOAN...|COMPUTER AND INFO...| ENGINEERING MANAGER|                 Y|       106900.0|2016|    RESTON, VIRGINIA| -77.3570028|38.9586307|       RESTON|       VIRGINIA|                 1|\n",
      "|7344|          WITHDRAWN| TIBCO SOFTWARE INC.|COMPUTER AND INFO...|     PROJECT MANAGER|                 Y|       109075.0|2016|       DALLAS, TEXAS| -96.7969879|32.7766642|       DALLAS|          TEXAS|                 1|\n",
      "|7345|          WITHDRAWN|AMAZON CORPORATE LLC|COMPUTER AND INFO...|TECHNICAL PROGRAM...|                 Y|        93200.0|2016| SEATTLE, WASHINGTON|-122.3320708|47.6062095|      SEATTLE|     WASHINGTON|                 1|\n",
      "|7346|CERTIFIED-WITHDRAWN|         DIRECTV LLC|COMPUTER AND INFO...|IT PROJECT MANAGE...|                 Y|       115600.0|2016|EL SEGUNDO, CALIF...|-118.4164652|33.9191799|   EL SEGUNDO|     CALIFORNIA|                 1|\n",
      "|7347|CERTIFIED-WITHDRAWN|CREDIT SUISSE SEC...|COMPUTER AND INFO...|ASSISTANT VICE PR...|                 Y|       127358.0|2016|  NEW YORK, NEW YORK| -74.0059413|40.7127837|     NEW YORK|       NEW YORK|                 1|\n",
      "|7348|          WITHDRAWN|LINKEDIN CORPORATION|COMPUTER AND INFO...|     PRODUCT MANAGER|                 Y|       119621.0|2016|MOUNTAIN VIEW, CA...|-122.0838511|37.3860517|MOUNTAIN VIEW|     CALIFORNIA|                 1|\n",
      "|7349|          WITHDRAWN|         INTUIT INC.|COMPUTER AND INFO...|OFFERING PROGRAM ...|                 Y|       119621.0|2016|MOUNTAIN VIEW, CA...|-122.0838511|37.3860517|MOUNTAIN VIEW|     CALIFORNIA|                 1|\n",
      "|7350|CERTIFIED-WITHDRAWN|AIG GLOBAL SERVIC...|COMPUTER AND INFO...|GLOBAL HEAD, PROJ...|                 Y|       186098.0|2016|  NEW YORK, NEW YORK| -74.0059413|40.7127837|     NEW YORK|       NEW YORK|                 1|\n",
      "|7351|CERTIFIED-WITHDRAWN|LENOVO (UNITED ST...|COMPUTER AND INFO...|ORGANIZATIONAL CH...|                 Y|        87526.0|2016|MORRISVILLE, NORT...| -78.8255621| 35.823483|  MORRISVILLE| NORTH CAROLINA|                 1|\n",
      "|7352|CERTIFIED-WITHDRAWN|  EFFEX CAPITAL, LLC|COMPUTER AND INFO...|CHIEF TECHNOLOGY ...|                 Y|       186098.0|2016|JERSEY CITY, NEW ...| -74.0776417|40.7281575|  JERSEY CITY|     NEW JERSEY|                 1|\n",
      "|7353|CERTIFIED-WITHDRAWN|TEMPLE UNIVERSITY...|COMPUTER AND INFO...| INFORMATICS MANAGER|                 Y|        76794.0|2016|PHILADELPHIA, PEN...| -75.1652215|39.9525839| PHILADELPHIA|   PENNSYLVANIA|                 1|\n",
      "|7354|CERTIFIED-WITHDRAWN|ORACLE FINANCIAL ...|COMPUTER AND INFO...|PROJECT SUPPORT M...|                 Y|        97805.0|2016|  EDISON, NEW JERSEY| -74.4120953|40.5187154|       EDISON|     NEW JERSEY|                 1|\n",
      "|7355|CERTIFIED-WITHDRAWN|ADOBE SYSTEMS INC...|COMPUTER AND INFO...|INFORMATION TECHN...|                 Y|       112258.0|2016|SAN FRANCISCO, CA...|-122.4194155|37.7749295|SAN FRANCISCO|     CALIFORNIA|                 1|\n",
      "|7356|CERTIFIED-WITHDRAWN|     CADATASOFT, INC|COMPUTER AND INFO...|TECHNICAL PROJECT...|                 Y|       119621.0|2016|SANTA CLARA, CALI...|-121.9552356|37.3541079|  SANTA CLARA|     CALIFORNIA|                 1|\n",
      "+----+-------------------+--------------------+--------------------+--------------------+------------------+---------------+----+--------------------+------------+----------+-------------+---------------+------------------+\n",
      "only showing top 20 rows\n",
      "\n"
     ]
    }
   ],
   "source": [
    "#df2.count()\n",
    "df2.show()"
   ]
  },
  {
   "cell_type": "code",
   "execution_count": 28,
   "metadata": {},
   "outputs": [
    {
     "name": "stdout",
     "output_type": "stream",
     "text": [
      "root\n",
      " |-- _c0: string (nullable = true)\n",
      " |-- CASE_STATUS: string (nullable = true)\n",
      " |-- EMPLOYER_NAME: string (nullable = true)\n",
      " |-- SOC_NAME: string (nullable = true)\n",
      " |-- JOB_TITLE: string (nullable = true)\n",
      " |-- FULL_TIME_POSITION: string (nullable = true)\n",
      " |-- PREVAILING_WAGE: double (nullable = true)\n",
      " |-- YEAR: string (nullable = true)\n",
      " |-- WORKSITE: string (nullable = true)\n",
      " |-- lon: string (nullable = true)\n",
      " |-- lat: string (nullable = true)\n",
      " |-- CITY: string (nullable = true)\n",
      " |-- STATE: string (nullable = true)\n",
      " |-- SOC_NAME_CONVERTED: integer (nullable = false)\n",
      "\n"
     ]
    }
   ],
   "source": [
    "df3.printSchema()"
   ]
  },
  {
   "cell_type": "code",
   "execution_count": 30,
   "metadata": {},
   "outputs": [
    {
     "name": "stdout",
     "output_type": "stream",
     "text": [
      "+---+-------------------+--------------------+--------------------+--------------------+------------------+---------------+----+--------------------+------------+----------+-----------------+--------------+------------------+\n",
      "|_c0|        CASE_STATUS|       EMPLOYER_NAME|            SOC_NAME|           JOB_TITLE|FULL_TIME_POSITION|PREVAILING_WAGE|YEAR|            WORKSITE|         lon|       lat|             CITY|         STATE|SOC_NAME_CONVERTED|\n",
      "+---+-------------------+--------------------+--------------------+--------------------+------------------+---------------+----+--------------------+------------+----------+-----------------+--------------+------------------+\n",
      "|  1|CERTIFIED-WITHDRAWN|UNIVERSITY OF MIC...|BIOCHEMISTS AND B...|POSTDOCTORAL RESE...|                 N|        36067.0|2016| ANN ARBOR, MICHIGAN| -83.7430378|42.2808256|        ANN ARBOR|      MICHIGAN|                 0|\n",
      "|  2|CERTIFIED-WITHDRAWN|GOODMAN NETWORKS,...|    CHIEF EXECUTIVES|CHIEF OPERATING O...|                 Y|       242674.0|2016|        PLANO, TEXAS| -96.6988856|33.0198431|            PLANO|         TEXAS|                 0|\n",
      "|  3|CERTIFIED-WITHDRAWN|PORTS AMERICA GRO...|    CHIEF EXECUTIVES|CHIEF PROCESS OFF...|                 Y|       193066.0|2016|JERSEY CITY, NEW ...| -74.0776417|40.7281575|      JERSEY CITY|    NEW JERSEY|                 0|\n",
      "|  4|CERTIFIED-WITHDRAWN|GATES CORPORATION...|    CHIEF EXECUTIVES|REGIONAL PRESIDEN...|                 Y|       220314.0|2016|    DENVER, COLORADO| -104.990251|39.7392358|           DENVER|      COLORADO|                 0|\n",
      "|  5|          WITHDRAWN|PEABODY INVESTMEN...|    CHIEF EXECUTIVES|PRESIDENT MONGOLI...|                 Y|       157518.4|2016| ST. LOUIS, MISSOURI| -90.1994042|38.6270025|        ST. LOUIS|      MISSOURI|                 0|\n",
      "|  6|CERTIFIED-WITHDRAWN|BURGER KING CORPO...|    CHIEF EXECUTIVES|EXECUTIVE V P, GL...|                 Y|       225000.0|2016|      MIAMI, FLORIDA| -80.1917902|25.7616798|            MIAMI|       FLORIDA|                 0|\n",
      "|  7|CERTIFIED-WITHDRAWN|BT AND MK ENERGY ...|    CHIEF EXECUTIVES|CHIEF OPERATING O...|                 Y|        91021.0|2016|      HOUSTON, TEXAS| -95.3698028|29.7604267|          HOUSTON|         TEXAS|                 0|\n",
      "|  8|CERTIFIED-WITHDRAWN|GLOBO MOBILE TECH...|    CHIEF EXECUTIVES|CHIEF OPERATIONS ...|                 Y|       150000.0|2016|SAN JOSE, CALIFORNIA|-121.8863286|37.3382082|         SAN JOSE|    CALIFORNIA|                 0|\n",
      "|  9|CERTIFIED-WITHDRAWN|  ESI COMPANIES INC.|    CHIEF EXECUTIVES|           PRESIDENT|                 Y|       127546.0|2016|      MEMPHIS, TEXAS|          NA|        NA|          MEMPHIS|         TEXAS|                 0|\n",
      "| 10|          WITHDRAWN|LESSARD INTERNATI...|    CHIEF EXECUTIVES|           PRESIDENT|                 Y|       154648.0|2016|    VIENNA, VIRGINIA| -77.2652604|38.9012225|           VIENNA|      VIRGINIA|                 0|\n",
      "| 11|CERTIFIED-WITHDRAWN|  H.J. HEINZ COMPANY|    CHIEF EXECUTIVES|CHIEF INFORMATION...|                 Y|       182978.0|2016|PITTSBURGH, PENNS...| -79.9958864|40.4406248|       PITTSBURGH|  PENNSYLVANIA|                 0|\n",
      "| 12|CERTIFIED-WITHDRAWN|DOW CORNING CORPO...|    CHIEF EXECUTIVES|VICE PRESIDENT AN...|                 Y|       163717.0|2016|   MIDLAND, MICHIGAN| -84.2472116|43.6155825|          MIDLAND|      MICHIGAN|                 0|\n",
      "| 13|CERTIFIED-WITHDRAWN|    ACUSHNET COMPANY|    CHIEF EXECUTIVES|   TREASURER AND COO|                 Y|       203860.8|2016|FAIRHAVEN, MASSAC...|          NA|        NA|        FAIRHAVEN| MASSACHUSETTS|                 0|\n",
      "| 14|CERTIFIED-WITHDRAWN|       BIOCAIR, INC.|    CHIEF EXECUTIVES|CHIEF COMMERCIAL ...|                 Y|       252637.0|2016|      MIAMI, FLORIDA| -80.1917902|25.7616798|            MIAMI|       FLORIDA|                 0|\n",
      "| 15|CERTIFIED-WITHDRAWN|NEWMONT MINING CO...|    CHIEF EXECUTIVES|        BOARD MEMBER|                 Y|       105914.0|2016|GREENWOOD VILLAGE...|-104.9508141|39.6172101|GREENWOOD VILLAGE|      COLORADO|                 0|\n",
      "| 16|CERTIFIED-WITHDRAWN|        VRICON, INC.|    CHIEF EXECUTIVES|CHIEF FINANCIAL O...|                 Y|       153046.0|2016|  STERLING, VIRGINIA| -77.4291298|39.0066993|         STERLING|      VIRGINIA|                 0|\n",
      "| 17|CERTIFIED-WITHDRAWN|CARDIAC SCIENCE C...|  FINANCIAL MANAGERS|VICE PRESIDENT OF...|                 Y|        90834.0|2016| WAUKESHA, WISCONSIN| -88.2314813|43.0116784|         WAUKESHA|     WISCONSIN|                 0|\n",
      "| 18|CERTIFIED-WITHDRAWN|WESTFIELD CORPORA...|    CHIEF EXECUTIVES|GENERAL MANAGER, ...|                 Y|       164050.0|2016|LOS ANGELES, CALI...|-118.2436849|34.0522342|      LOS ANGELES|    CALIFORNIA|                 0|\n",
      "| 19|          CERTIFIED|      QUICKLOGIX LLC|    CHIEF EXECUTIVES|                 CEO|                 Y|       187200.0|2016|SANTA CLARA, CALI...|-121.9552356|37.3541079|      SANTA CLARA|    CALIFORNIA|                 0|\n",
      "| 20|          CERTIFIED|MCCHRYSTAL GROUP,...|    CHIEF EXECUTIVES|PRESIDENT, NORTHE...|                 Y|       241842.0|2016|ALEXANDRIA, VIRGINIA| -77.0469214|38.8048355|       ALEXANDRIA|      VIRGINIA|                 0|\n",
      "+---+-------------------+--------------------+--------------------+--------------------+------------------+---------------+----+--------------------+------------+----------+-----------------+--------------+------------------+\n",
      "only showing top 20 rows\n",
      "\n"
     ]
    }
   ],
   "source": [
    "df3.show()"
   ]
  },
  {
   "cell_type": "code",
   "execution_count": 31,
   "metadata": {
    "collapsed": true
   },
   "outputs": [],
   "source": [
    "result = df2.union(df3)"
   ]
  },
  {
   "cell_type": "code",
   "execution_count": 32,
   "metadata": {},
   "outputs": [
    {
     "data": {
      "text/plain": [
       "3002458"
      ]
     },
     "execution_count": 32,
     "metadata": {},
     "output_type": "execute_result"
    }
   ],
   "source": [
    "result.count()"
   ]
  },
  {
   "cell_type": "code",
   "execution_count": 33,
   "metadata": {},
   "outputs": [
    {
     "name": "stdout",
     "output_type": "stream",
     "text": [
      "root\n",
      " |-- _c0: string (nullable = true)\n",
      " |-- CASE_STATUS: string (nullable = true)\n",
      " |-- EMPLOYER_NAME: string (nullable = true)\n",
      " |-- SOC_NAME: string (nullable = true)\n",
      " |-- JOB_TITLE: string (nullable = true)\n",
      " |-- FULL_TIME_POSITION: string (nullable = true)\n",
      " |-- PREVAILING_WAGE: double (nullable = true)\n",
      " |-- YEAR: string (nullable = true)\n",
      " |-- WORKSITE: string (nullable = true)\n",
      " |-- lon: string (nullable = true)\n",
      " |-- lat: string (nullable = true)\n",
      " |-- CITY: string (nullable = true)\n",
      " |-- STATE: string (nullable = true)\n",
      " |-- SOC_NAME_CONVERTED: integer (nullable = false)\n",
      "\n"
     ]
    }
   ],
   "source": [
    "result.printSchema()"
   ]
  },
  {
   "cell_type": "code",
   "execution_count": 34,
   "metadata": {},
   "outputs": [
    {
     "name": "stdout",
     "output_type": "stream",
     "text": [
      "+----+-------------------+--------------------+--------------------+--------------------+------------------+---------------+----+--------------------+------------+----------+-------------+---------------+------------------+\n",
      "| _c0|        CASE_STATUS|       EMPLOYER_NAME|            SOC_NAME|           JOB_TITLE|FULL_TIME_POSITION|PREVAILING_WAGE|YEAR|            WORKSITE|         lon|       lat|         CITY|          STATE|SOC_NAME_CONVERTED|\n",
      "+----+-------------------+--------------------+--------------------+--------------------+------------------+---------------+----+--------------------+------------+----------+-------------+---------------+------------------+\n",
      "|7337|CERTIFIED-WITHDRAWN|NORTHWEST EVALUAT...|COMPUTER & INFORM...|INFORMATION SERVI...|                 Y|       132475.0|2016|  NEW YORK, NEW YORK| -74.0059413|40.7127837|     NEW YORK|       NEW YORK|                 1|\n",
      "|7338|CERTIFIED-WITHDRAWN|NORTHWEST EVALUAT...|COMPUTER & INFORM...|INFORMATION SERVI...|                 Y|       114483.0|2016|  NEW YORK, NEW YORK| -74.0059413|40.7127837|     NEW YORK|       NEW YORK|                 1|\n",
      "|7339|CERTIFIED-WITHDRAWN|    CCH INCORPORATED|COMPUTER AND INFO...|          MANAGER IT|                 Y|       111654.0|2016|       IRVING, TEXAS| -96.9488945|32.8140177|       IRVING|          TEXAS|                 1|\n",
      "|7340|          WITHDRAWN|      GRANULAR, INC.|COMPUTER AND INFO...|SENIOR PRODUCT MA...|                 Y|       118414.0|2016|SAN FRANCISCO, CA...|-122.4194155|37.7749295|SAN FRANCISCO|     CALIFORNIA|                 1|\n",
      "|7341|          CERTIFIED|PAYMENT LOGISTICS...|COMPUTER AND INFO...|CHIEF TECHNOLOGY ...|                 Y|        90000.0|2016|SAN DIEGO, CALIFO...|-117.1610838| 32.715738|    SAN DIEGO|     CALIFORNIA|                 1|\n",
      "|7342|          WITHDRAWN|          ZYNGA INC.|COMPUTER AND INFO...| DIRECTOR OF PRODUCT|                 Y|       136282.0|2016|CARLSBAD, CALIFORNIA|-117.3505939|33.1580933|     CARLSBAD|     CALIFORNIA|                 1|\n",
      "|7343|CERTIFIED-WITHDRAWN|FEDERAL HOME LOAN...|COMPUTER AND INFO...| ENGINEERING MANAGER|                 Y|       106900.0|2016|    RESTON, VIRGINIA| -77.3570028|38.9586307|       RESTON|       VIRGINIA|                 1|\n",
      "|7344|          WITHDRAWN| TIBCO SOFTWARE INC.|COMPUTER AND INFO...|     PROJECT MANAGER|                 Y|       109075.0|2016|       DALLAS, TEXAS| -96.7969879|32.7766642|       DALLAS|          TEXAS|                 1|\n",
      "|7345|          WITHDRAWN|AMAZON CORPORATE LLC|COMPUTER AND INFO...|TECHNICAL PROGRAM...|                 Y|        93200.0|2016| SEATTLE, WASHINGTON|-122.3320708|47.6062095|      SEATTLE|     WASHINGTON|                 1|\n",
      "|7346|CERTIFIED-WITHDRAWN|         DIRECTV LLC|COMPUTER AND INFO...|IT PROJECT MANAGE...|                 Y|       115600.0|2016|EL SEGUNDO, CALIF...|-118.4164652|33.9191799|   EL SEGUNDO|     CALIFORNIA|                 1|\n",
      "|7347|CERTIFIED-WITHDRAWN|CREDIT SUISSE SEC...|COMPUTER AND INFO...|ASSISTANT VICE PR...|                 Y|       127358.0|2016|  NEW YORK, NEW YORK| -74.0059413|40.7127837|     NEW YORK|       NEW YORK|                 1|\n",
      "|7348|          WITHDRAWN|LINKEDIN CORPORATION|COMPUTER AND INFO...|     PRODUCT MANAGER|                 Y|       119621.0|2016|MOUNTAIN VIEW, CA...|-122.0838511|37.3860517|MOUNTAIN VIEW|     CALIFORNIA|                 1|\n",
      "|7349|          WITHDRAWN|         INTUIT INC.|COMPUTER AND INFO...|OFFERING PROGRAM ...|                 Y|       119621.0|2016|MOUNTAIN VIEW, CA...|-122.0838511|37.3860517|MOUNTAIN VIEW|     CALIFORNIA|                 1|\n",
      "|7350|CERTIFIED-WITHDRAWN|AIG GLOBAL SERVIC...|COMPUTER AND INFO...|GLOBAL HEAD, PROJ...|                 Y|       186098.0|2016|  NEW YORK, NEW YORK| -74.0059413|40.7127837|     NEW YORK|       NEW YORK|                 1|\n",
      "|7351|CERTIFIED-WITHDRAWN|LENOVO (UNITED ST...|COMPUTER AND INFO...|ORGANIZATIONAL CH...|                 Y|        87526.0|2016|MORRISVILLE, NORT...| -78.8255621| 35.823483|  MORRISVILLE| NORTH CAROLINA|                 1|\n",
      "|7352|CERTIFIED-WITHDRAWN|  EFFEX CAPITAL, LLC|COMPUTER AND INFO...|CHIEF TECHNOLOGY ...|                 Y|       186098.0|2016|JERSEY CITY, NEW ...| -74.0776417|40.7281575|  JERSEY CITY|     NEW JERSEY|                 1|\n",
      "|7353|CERTIFIED-WITHDRAWN|TEMPLE UNIVERSITY...|COMPUTER AND INFO...| INFORMATICS MANAGER|                 Y|        76794.0|2016|PHILADELPHIA, PEN...| -75.1652215|39.9525839| PHILADELPHIA|   PENNSYLVANIA|                 1|\n",
      "|7354|CERTIFIED-WITHDRAWN|ORACLE FINANCIAL ...|COMPUTER AND INFO...|PROJECT SUPPORT M...|                 Y|        97805.0|2016|  EDISON, NEW JERSEY| -74.4120953|40.5187154|       EDISON|     NEW JERSEY|                 1|\n",
      "|7355|CERTIFIED-WITHDRAWN|ADOBE SYSTEMS INC...|COMPUTER AND INFO...|INFORMATION TECHN...|                 Y|       112258.0|2016|SAN FRANCISCO, CA...|-122.4194155|37.7749295|SAN FRANCISCO|     CALIFORNIA|                 1|\n",
      "|7356|CERTIFIED-WITHDRAWN|     CADATASOFT, INC|COMPUTER AND INFO...|TECHNICAL PROJECT...|                 Y|       119621.0|2016|SANTA CLARA, CALI...|-121.9552356|37.3541079|  SANTA CLARA|     CALIFORNIA|                 1|\n",
      "+----+-------------------+--------------------+--------------------+--------------------+------------------+---------------+----+--------------------+------------+----------+-------------+---------------+------------------+\n",
      "only showing top 20 rows\n",
      "\n"
     ]
    }
   ],
   "source": [
    "result.show()"
   ]
  },
  {
   "cell_type": "code",
   "execution_count": 35,
   "metadata": {
    "collapsed": true
   },
   "outputs": [],
   "source": [
    "sql.registerDataFrameAsTable(result, \"h1_b_data_soc_name_converted\")"
   ]
  },
  {
   "cell_type": "code",
   "execution_count": 80,
   "metadata": {},
   "outputs": [
    {
     "data": {
      "text/plain": [
       "2912586"
      ]
     },
     "execution_count": 80,
     "metadata": {},
     "output_type": "execute_result"
    }
   ],
   "source": [
    "#Excluding from dataframe SOC_NAMES that have 4 or more comma separates values. 78 such rows. \n",
    "#df4 = sql.sql(\"SELECT CASE_STATUS, FULL_TIME_POSITION, PREVAILING_WAGE, YEAR, STATE, CITY, SOC_NAME_CONVERTED from h1_b_data_soc_name_converted where CASE_STATUS in ('CERTIFIED', 'CERTIFIED-WITHDRAWN', 'DENIED') AND FULL_TIME_POSITION in ('Y','N') AND STATE NOT IN ('NA') AND STATE is not null AND CITY NOT IN ('NA') AND CITY is not null\")\n",
    "#df2.take(78)\n",
    "df4 = sql.sql(\"SELECT CASE_STATUS, FULL_TIME_POSITION, PREVAILING_WAGE, YEAR, STATE, CITY, SOC_NAME_CONVERTED from h1_b_data_soc_name_converted where CASE_STATUS in ('CERTIFIED', 'CERTIFIED-WITHDRAWN', 'DENIED') AND FULL_TIME_POSITION in ('Y','N') AND STATE != 'NA' AND STATE is not null AND CITY != 'NA' AND CITY is not null\")\n",
    "df4.count()"
   ]
  },
  {
   "cell_type": "code",
   "execution_count": null,
   "metadata": {
    "collapsed": true
   },
   "outputs": [],
   "source": [
    "#Recreating the table from dataframe after exclusion of above SOC_NAMES\n",
    "sql.registerDataFrameAsTable(df, \"h1_b_data\")"
   ]
  },
  {
   "cell_type": "code",
   "execution_count": 13,
   "metadata": {},
   "outputs": [
    {
     "name": "stdout",
     "output_type": "stream",
     "text": [
      "+---+-------------------+--------------------+--------------------+--------------------+------------------+---------------+----+--------------------+-----------+----------+-----------+-----------+\n",
      "|_c0|        CASE_STATUS|       EMPLOYER_NAME|            SOC_NAME|           JOB_TITLE|FULL_TIME_POSITION|PREVAILING_WAGE|YEAR|            WORKSITE|        lon|       lat|       CITY|      STATE|\n",
      "+---+-------------------+--------------------+--------------------+--------------------+------------------+---------------+----+--------------------+-----------+----------+-----------+-----------+\n",
      "|  1|CERTIFIED-WITHDRAWN|UNIVERSITY OF MIC...|BIOCHEMISTS AND B...|POSTDOCTORAL RESE...|                 N|        36067.0|2016| ANN ARBOR, MICHIGAN|-83.7430378|42.2808256|  ANN ARBOR|   MICHIGAN|\n",
      "|  2|CERTIFIED-WITHDRAWN|GOODMAN NETWORKS,...|    CHIEF EXECUTIVES|CHIEF OPERATING O...|                 Y|       242674.0|2016|        PLANO, TEXAS|-96.6988856|33.0198431|      PLANO|      TEXAS|\n",
      "|  3|CERTIFIED-WITHDRAWN|PORTS AMERICA GRO...|    CHIEF EXECUTIVES|CHIEF PROCESS OFF...|                 Y|       193066.0|2016|JERSEY CITY, NEW ...|-74.0776417|40.7281575|JERSEY CITY| NEW JERSEY|\n",
      "|  4|CERTIFIED-WITHDRAWN|GATES CORPORATION...|    CHIEF EXECUTIVES|REGIONAL PRESIDEN...|                 Y|       220314.0|2016|    DENVER, COLORADO|-104.990251|39.7392358|     DENVER|   COLORADO|\n",
      "|  5|          WITHDRAWN|PEABODY INVESTMEN...|    CHIEF EXECUTIVES|PRESIDENT MONGOLI...|                 Y|       157518.4|2016| ST. LOUIS, MISSOURI|-90.1994042|38.6270025|  ST. LOUIS|   MISSOURI|\n",
      "+---+-------------------+--------------------+--------------------+--------------------+------------------+---------------+----+--------------------+-----------+----------+-----------+-----------+\n",
      "only showing top 5 rows\n",
      "\n"
     ]
    }
   ],
   "source": [
    "df.show(5)"
   ]
  },
  {
   "cell_type": "code",
   "execution_count": 67,
   "metadata": {},
   "outputs": [
    {
     "data": {
      "text/plain": [
       "53"
      ]
     },
     "execution_count": 67,
     "metadata": {},
     "output_type": "execute_result"
    }
   ],
   "source": [
    "#df.select('STATE').distinct().take(54)\n",
    "df4.select('STATE').distinct().count()"
   ]
  },
  {
   "cell_type": "code",
   "execution_count": 38,
   "metadata": {},
   "outputs": [
    {
     "name": "stdout",
     "output_type": "stream",
     "text": [
      "+-----+-------------------+--------------------+--------------------+--------------------+------------------+---------------+----+--------------------+------------+----------+\n",
      "|  _c0|        CASE_STATUS|       EMPLOYER_NAME|            SOC_NAME|           JOB_TITLE|FULL_TIME_POSITION|PREVAILING_WAGE|YEAR|            WORKSITE|         lon|       lat|\n",
      "+-----+-------------------+--------------------+--------------------+--------------------+------------------+---------------+----+--------------------+------------+----------+\n",
      "|22825|CERTIFIED-WITHDRAWN|KLA-TENCOR CORPOR...|PURCHASING AGENTS...|SUPPLY CHAIN SPEC...|                 N|          63378|2016|MILPITAS, CALIFORNIA|-121.8995741|37.4323341|\n",
      "|22826|CERTIFIED-WITHDRAWN|     MEDTRONIC, INC.|PURCHASING AGENTS...|SUPPLY CHAIN ANALYST|                 N|          56326|2016|CARLSBAD, CALIFORNIA|-117.3505939|33.1580933|\n",
      "|22827|CERTIFIED-WITHDRAWN|BORG WARNER EMISS...|PURCHASING AGENTS...|               BUYER|                 N|          40102|2016|     DIXON, ILLINOIS| -89.4795478|41.8389213|\n",
      "|22828|CERTIFIED-WITHDRAWN|GLOBALFOUNDRIES U...|PURCHASING AGENTS...|PRINCIPAL SPECIAL...|                 N|          69243|2016|    ALBANY, NEW YORK| -73.7562317|42.6525793|\n",
      "|22829|CERTIFIED-WITHDRAWN|VOLVO CONSTRUCTIO...|PURCHASING AGENTS...|PROJECT BUYER, PU...|                 N|          47008|2016|SHIPPENSBURG, PEN...| -77.5202647|40.0506453|\n",
      "|22830|          WITHDRAWN|           EDG, INC.|PURCHASING AGENTS...|PROCUREMENT SPECI...|                 N|          48256|2016| METAIRIE, LOUISIANA| -90.1528519|29.9840922|\n",
      "|22831|CERTIFIED-WITHDRAWN|     JACOBS PSG INC.|PURCHASING AGENTS...|CONTRACT ADMINIST...|                 N|          56930|2016|ELKVIEW, WEST VIR...|          NA|        NA|\n",
      "|22832|CERTIFIED-WITHDRAWN|CNH INDUSTRIAL AM...|PURCHASING AGENTS...|BUYER,  MACHINED ...|                 N|          52666|2016|BURR RIDGE, ILLINOIS| -87.9183919|41.7489203|\n",
      "|22833|CERTIFIED-WITHDRAWN|SCHLUMBERGER LIFT...|PURCHASING AGENTS...|    PURCHASING AGENT|                 N|          40560|2016|       DALLAS, TEXAS| -96.7969879|32.7766642|\n",
      "|22834|CERTIFIED-WITHDRAWN|TEJAS TUBULAR PRO...|PURCHASING AGENTS...| PURCHASING ENGINEER|                 Y|          71386|2016|      HOUSTON, TEXAS| -95.3698028|29.7604267|\n",
      "|22835|CERTIFIED-WITHDRAWN|LEVITON MANUFACTU...|PURCHASING AGENTS...|SENIOR BUYER PLANNER|                 Y|          75637|2016| BOTHELL, WASHINGTON|-122.2055883|  47.76095|\n",
      "|22836|          CERTIFIED|UNILEVER UNITED S...|PURCHASING AGENTS...|PORTFOLIO PROCURE...|                 Y|          82597|2016|ENGLEWOOD CLIFFS,...| -73.9523597|40.8853773|\n",
      "|22837|          CERTIFIED|      GK TRADING LLC|PURCHASING AGENTS...|PURCHASING ASSOCIATE|                 N|        57324.8|2016|  NEW YORK, NEW YORK| -74.0059413|40.7127837|\n",
      "|22838|          CERTIFIED|CONTINENTAL AUTOM...|PURCHASING AGENTS...|SENOR CATEGORY PU...|                 Y|          81328|2016|      TROY, MICHIGAN| -83.1497751|42.6064095|\n",
      "|22839|          CERTIFIED|FOXCONN/HON HAI L...|PURCHASING AGENTS...|PROCUREMENT SPECI...|                 N|          41850|2016|      HOUSTON, TEXAS| -95.3698028|29.7604267|\n",
      "|22840|          WITHDRAWN|    XALT ENERGY, LLC|PURCHASING AGENTS...|PURCHASING TECHNI...|                 N|          51730|2016|   MIDLAND, MICHIGAN| -84.2472116|43.6155825|\n",
      "|22841|          CERTIFIED|    XALT ENERGY, LLC|PURCHASING AGENTS...|PURCHASING TECHNI...|                 N|          51730|2016|   MIDLAND, MICHIGAN| -84.2472116|43.6155825|\n",
      "|22842|          CERTIFIED|PLASTIC TRIM INTE...|PURCHASING AGENTS...|          BUYER, PCN|                 N|          48818|2016|EAST TAWAS, MICHIGAN|          NA|        NA|\n",
      "|22843|          CERTIFIED|         KAUTEX INC.|PURCHASING AGENTS...|SENIOR SPECIALIST...|                 Y|          81328|2016|      TROY, MICHIGAN| -83.1497751|42.6064095|\n",
      "|22844|          CERTIFIED|GOODMAN MANUFACTU...|PURCHASING AGENTS...|CAPEX ANALYST / B...|                 Y|          71386|2016|      HOUSTON, TEXAS| -95.3698028|29.7604267|\n",
      "+-----+-------------------+--------------------+--------------------+--------------------+------------------+---------------+----+--------------------+------------+----------+\n",
      "only showing top 20 rows\n",
      "\n"
     ]
    }
   ],
   "source": [
    "df2.show()"
   ]
  },
  {
   "cell_type": "code",
   "execution_count": 84,
   "metadata": {},
   "outputs": [
    {
     "name": "stdout",
     "output_type": "stream",
     "text": [
      "+--------------------+------+\n",
      "|               STATE| count|\n",
      "+--------------------+------+\n",
      "|             INDIANA| 29320|\n",
      "|             VERMONT|  1877|\n",
      "|           LOUISIANA| 11059|\n",
      "|        NORTH DAKOTA|  2817|\n",
      "|             FLORIDA|102694|\n",
      "|                UTAH| 12656|\n",
      "|       NEW HAMPSHIRE|  9603|\n",
      "|          CALIFORNIA|542657|\n",
      "|       MASSACHUSETTS|113028|\n",
      "|              ALASKA|  1363|\n",
      "|            DELAWARE| 17708|\n",
      "|      NORTH CAROLINA| 77536|\n",
      "|        SOUTH DAKOTA|  1827|\n",
      "|        RHODE ISLAND| 11455|\n",
      "|            MARYLAND| 54451|\n",
      "|                IOWA| 16233|\n",
      "|          NEW JERSEY|207631|\n",
      "|              HAWAII|  3644|\n",
      "|            KENTUCKY| 12296|\n",
      "|         MISSISSIPPI|  4099|\n",
      "|            ARKANSAS| 14342|\n",
      "|               IDAHO|  4038|\n",
      "|            MICHIGAN| 80525|\n",
      "|        PENNSYLVANIA|107258|\n",
      "|           WISCONSIN| 31772|\n",
      "|             ALABAMA|  9910|\n",
      "|             ARIZONA| 40797|\n",
      "|           MINNESOTA| 47417|\n",
      "|            VIRGINIA| 87514|\n",
      "|            ILLINOIS|156234|\n",
      "|               TEXAS|285407|\n",
      "|              NEVADA|  7152|\n",
      "|            NEW YORK|282252|\n",
      "|       WEST VIRGINIA|  2947|\n",
      "|         CONNECTICUT| 48918|\n",
      "|            OKLAHOMA| 10237|\n",
      "|               MAINE|  3812|\n",
      "|             WYOMING|   860|\n",
      "|          NEW MEXICO|  5330|\n",
      "|            NEBRASKA|  9009|\n",
      "|              KANSAS| 13311|\n",
      "|                  NA|  3444|\n",
      "|             MONTANA|   951|\n",
      "| DISTRICT OF COLU...| 22008|\n",
      "|              OREGON| 22998|\n",
      "|             GEORGIA|100027|\n",
      "|           TENNESSEE| 26879|\n",
      "|            MISSOURI| 33716|\n",
      "|                OHIO| 74488|\n",
      "|         PUERTO RICO|  1419|\n",
      "|      SOUTH CAROLINA| 12512|\n",
      "|            COLORADO| 30971|\n",
      "|          WASHINGTON|100126|\n",
      "+--------------------+------+\n",
      "\n"
     ]
    }
   ],
   "source": [
    "r = df4.groupby('STATE').count()\n",
    "#df4.count()\n",
    "r.show(53)"
   ]
  },
  {
   "cell_type": "code",
   "execution_count": 83,
   "metadata": {},
   "outputs": [
    {
     "data": {
      "text/plain": [
       "53"
      ]
     },
     "execution_count": 83,
     "metadata": {},
     "output_type": "execute_result"
    }
   ],
   "source": [
    "#df.select('CASE_STATUS').distinct().show()\n",
    "df4.select('STATE').distinct().count()"
   ]
  },
  {
   "cell_type": "code",
   "execution_count": 81,
   "metadata": {
    "collapsed": true
   },
   "outputs": [],
   "source": [
    "#df4.na.drop()\n",
    "df4 = df4.na.drop()"
   ]
  },
  {
   "cell_type": "code",
   "execution_count": 82,
   "metadata": {},
   "outputs": [
    {
     "data": {
      "text/plain": [
       "2912535"
      ]
     },
     "execution_count": 82,
     "metadata": {},
     "output_type": "execute_result"
    }
   ],
   "source": [
    "df4.count()"
   ]
  },
  {
   "cell_type": "code",
   "execution_count": 78,
   "metadata": {},
   "outputs": [
    {
     "data": {
      "text/plain": [
       "53"
      ]
     },
     "execution_count": 78,
     "metadata": {},
     "output_type": "execute_result"
    }
   ],
   "source": [
    "df4.select('STATE').distinct().count()"
   ]
  },
  {
   "cell_type": "code",
   "execution_count": 85,
   "metadata": {
    "collapsed": true
   },
   "outputs": [],
   "source": [
    "df4.write \\\n",
    "    .format('csv') \\\n",
    "    .option(\"header\",\"true\")\\\n",
    "    .save('H1B_CLEANED.csv')"
   ]
  },
  {
   "cell_type": "code",
   "execution_count": null,
   "metadata": {
    "collapsed": true
   },
   "outputs": [],
   "source": []
  }
 ],
 "metadata": {
  "anaconda-cloud": {},
  "kernelspec": {
   "display_name": "Python 3",
   "language": "python",
   "name": "python3"
  },
  "language_info": {
   "codemirror_mode": {
    "name": "ipython",
    "version": 3
   },
   "file_extension": ".py",
   "mimetype": "text/x-python",
   "name": "python",
   "nbconvert_exporter": "python",
   "pygments_lexer": "ipython3",
   "version": "3.6.3"
  }
 },
 "nbformat": 4,
 "nbformat_minor": 2
}
